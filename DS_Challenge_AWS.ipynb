{
 "cells": [
  {
   "cell_type": "markdown",
   "metadata": {},
   "source": [
    "<font size=3>__Option 3: Maintenance cost reduction through predictive techniques__ </font>"
   ]
  },
  {
   "cell_type": "markdown",
   "metadata": {},
   "source": [
    "<font size=2>__BACKGROUND__ </font><br>\n",
    "A company has a fleet of devices transmitting daily telemetry readings. They would like to create a predictive\n",
    "maintenance solution to proactively identify when maintenance should be performed. This approach promises cost\n",
    "savings over routine or time-based preventive maintenance, because tasks are performed only when warranted.\n",
    "<font size=2>__GOAL__ </font><br>\n",
    "You are tasked with building a predictive model using machine learning to predict the probability of a device failure.\n",
    "When building this model, be sure to minimize false positives and false negatives. The column you are trying to predict\n",
    "is called failure with binary value 0 for non-failure and 1 for failure.\n"
   ]
  },
  {
   "cell_type": "markdown",
   "metadata": {},
   "source": [
    "Load Data"
   ]
  },
  {
   "cell_type": "code",
   "execution_count": 68,
   "metadata": {
    "collapsed": true
   },
   "outputs": [],
   "source": [
    "import numpy as np\n",
    "import pandas as pd\n",
    "import matplotlib.pyplot as plt\n",
    "%matplotlib inline\n",
    "pd.options.display.max_columns=999\n",
    "\n",
    "path = '/axp/rim/imsads/dev/snall10/adhoc/excercise/'\n",
    "g_df=pd.read_csv(path+'predictive_maintenance.csv')"
   ]
  },
  {
   "cell_type": "code",
   "execution_count": 69,
   "metadata": {},
   "outputs": [
    {
     "data": {
      "text/html": [
       "<div>\n",
       "<style scoped>\n",
       "    .dataframe tbody tr th:only-of-type {\n",
       "        vertical-align: middle;\n",
       "    }\n",
       "\n",
       "    .dataframe tbody tr th {\n",
       "        vertical-align: top;\n",
       "    }\n",
       "\n",
       "    .dataframe thead th {\n",
       "        text-align: right;\n",
       "    }\n",
       "</style>\n",
       "<table border=\"1\" class=\"dataframe\">\n",
       "  <thead>\n",
       "    <tr style=\"text-align: right;\">\n",
       "      <th></th>\n",
       "      <th>date</th>\n",
       "      <th>id</th>\n",
       "      <th>failure</th>\n",
       "      <th>metric1</th>\n",
       "      <th>metric2</th>\n",
       "      <th>metric3</th>\n",
       "      <th>metric4</th>\n",
       "      <th>metric5</th>\n",
       "      <th>metric6</th>\n",
       "      <th>metric7</th>\n",
       "      <th>metric8</th>\n",
       "      <th>metric9</th>\n",
       "    </tr>\n",
       "  </thead>\n",
       "  <tbody>\n",
       "    <tr>\n",
       "      <th>0</th>\n",
       "      <td>2015-01-01</td>\n",
       "      <td>S1F01085</td>\n",
       "      <td>0</td>\n",
       "      <td>215630672</td>\n",
       "      <td>56</td>\n",
       "      <td>0</td>\n",
       "      <td>52</td>\n",
       "      <td>6</td>\n",
       "      <td>407438</td>\n",
       "      <td>0</td>\n",
       "      <td>0</td>\n",
       "      <td>7</td>\n",
       "    </tr>\n",
       "    <tr>\n",
       "      <th>1</th>\n",
       "      <td>2015-01-01</td>\n",
       "      <td>S1F0166B</td>\n",
       "      <td>0</td>\n",
       "      <td>61370680</td>\n",
       "      <td>0</td>\n",
       "      <td>3</td>\n",
       "      <td>0</td>\n",
       "      <td>6</td>\n",
       "      <td>403174</td>\n",
       "      <td>0</td>\n",
       "      <td>0</td>\n",
       "      <td>0</td>\n",
       "    </tr>\n",
       "    <tr>\n",
       "      <th>2</th>\n",
       "      <td>2015-01-01</td>\n",
       "      <td>S1F01E6Y</td>\n",
       "      <td>0</td>\n",
       "      <td>173295968</td>\n",
       "      <td>0</td>\n",
       "      <td>0</td>\n",
       "      <td>0</td>\n",
       "      <td>12</td>\n",
       "      <td>237394</td>\n",
       "      <td>0</td>\n",
       "      <td>0</td>\n",
       "      <td>0</td>\n",
       "    </tr>\n",
       "    <tr>\n",
       "      <th>3</th>\n",
       "      <td>2015-01-01</td>\n",
       "      <td>S1F01JE0</td>\n",
       "      <td>0</td>\n",
       "      <td>79694024</td>\n",
       "      <td>0</td>\n",
       "      <td>0</td>\n",
       "      <td>0</td>\n",
       "      <td>6</td>\n",
       "      <td>410186</td>\n",
       "      <td>0</td>\n",
       "      <td>0</td>\n",
       "      <td>0</td>\n",
       "    </tr>\n",
       "    <tr>\n",
       "      <th>4</th>\n",
       "      <td>2015-01-01</td>\n",
       "      <td>S1F01R2B</td>\n",
       "      <td>0</td>\n",
       "      <td>135970480</td>\n",
       "      <td>0</td>\n",
       "      <td>0</td>\n",
       "      <td>0</td>\n",
       "      <td>15</td>\n",
       "      <td>313173</td>\n",
       "      <td>0</td>\n",
       "      <td>0</td>\n",
       "      <td>3</td>\n",
       "    </tr>\n",
       "  </tbody>\n",
       "</table>\n",
       "</div>"
      ],
      "text/plain": [
       "         date        id  failure    metric1  metric2  metric3  metric4  \\\n",
       "0  2015-01-01  S1F01085        0  215630672       56        0       52   \n",
       "1  2015-01-01  S1F0166B        0   61370680        0        3        0   \n",
       "2  2015-01-01  S1F01E6Y        0  173295968        0        0        0   \n",
       "3  2015-01-01  S1F01JE0        0   79694024        0        0        0   \n",
       "4  2015-01-01  S1F01R2B        0  135970480        0        0        0   \n",
       "\n",
       "   metric5  metric6  metric7  metric8  metric9  \n",
       "0        6   407438        0        0        7  \n",
       "1        6   403174        0        0        0  \n",
       "2       12   237394        0        0        0  \n",
       "3        6   410186        0        0        0  \n",
       "4       15   313173        0        0        3  "
      ]
     },
     "execution_count": 69,
     "metadata": {},
     "output_type": "execute_result"
    }
   ],
   "source": [
    "g_df.head()"
   ]
  },
  {
   "cell_type": "code",
   "execution_count": 70,
   "metadata": {},
   "outputs": [
    {
     "name": "stdout",
     "output_type": "stream",
     "text": [
      "<class 'pandas.core.frame.DataFrame'>\n",
      "RangeIndex: 124494 entries, 0 to 124493\n",
      "Data columns (total 12 columns):\n",
      "date       124494 non-null object\n",
      "id         124494 non-null object\n",
      "failure    124494 non-null int64\n",
      "metric1    124494 non-null int64\n",
      "metric2    124494 non-null int64\n",
      "metric3    124494 non-null int64\n",
      "metric4    124494 non-null int64\n",
      "metric5    124494 non-null int64\n",
      "metric6    124494 non-null int64\n",
      "metric7    124494 non-null int64\n",
      "metric8    124494 non-null int64\n",
      "metric9    124494 non-null int64\n",
      "dtypes: int64(10), object(2)\n",
      "memory usage: 11.4+ MB\n",
      "None\n"
     ]
    }
   ],
   "source": [
    "print(g_df.info())"
   ]
  },
  {
   "cell_type": "code",
   "execution_count": 71,
   "metadata": {},
   "outputs": [
    {
     "name": "stdout",
     "output_type": "stream",
     "text": [
      "Loaded: 12 columns and 124494 rows of data\n"
     ]
    }
   ],
   "source": [
    "print(\"Loaded:\", g_df.shape[1],\"columns and\",g_df.shape[0],\"rows of data\")"
   ]
  },
  {
   "cell_type": "markdown",
   "metadata": {},
   "source": [
    "Exploratory Data Analysis"
   ]
  },
  {
   "cell_type": "code",
   "execution_count": 72,
   "metadata": {},
   "outputs": [
    {
     "data": {
      "text/html": [
       "<div>\n",
       "<style scoped>\n",
       "    .dataframe tbody tr th:only-of-type {\n",
       "        vertical-align: middle;\n",
       "    }\n",
       "\n",
       "    .dataframe tbody tr th {\n",
       "        vertical-align: top;\n",
       "    }\n",
       "\n",
       "    .dataframe thead th {\n",
       "        text-align: right;\n",
       "    }\n",
       "</style>\n",
       "<table border=\"1\" class=\"dataframe\">\n",
       "  <thead>\n",
       "    <tr style=\"text-align: right;\">\n",
       "      <th></th>\n",
       "      <th>failure</th>\n",
       "      <th>metric1</th>\n",
       "      <th>metric2</th>\n",
       "      <th>metric3</th>\n",
       "      <th>metric4</th>\n",
       "      <th>metric5</th>\n",
       "      <th>metric6</th>\n",
       "      <th>metric7</th>\n",
       "      <th>metric8</th>\n",
       "      <th>metric9</th>\n",
       "    </tr>\n",
       "  </thead>\n",
       "  <tbody>\n",
       "    <tr>\n",
       "      <th>count</th>\n",
       "      <td>124494.000000</td>\n",
       "      <td>1.244940e+05</td>\n",
       "      <td>124494.000000</td>\n",
       "      <td>124494.000000</td>\n",
       "      <td>124494.000000</td>\n",
       "      <td>124494.000000</td>\n",
       "      <td>124494.000000</td>\n",
       "      <td>124494.000000</td>\n",
       "      <td>124494.000000</td>\n",
       "      <td>124494.000000</td>\n",
       "    </tr>\n",
       "    <tr>\n",
       "      <th>mean</th>\n",
       "      <td>0.000851</td>\n",
       "      <td>1.223881e+08</td>\n",
       "      <td>159.484762</td>\n",
       "      <td>9.940455</td>\n",
       "      <td>1.741120</td>\n",
       "      <td>14.222669</td>\n",
       "      <td>260172.657726</td>\n",
       "      <td>0.292528</td>\n",
       "      <td>0.292528</td>\n",
       "      <td>12.451524</td>\n",
       "    </tr>\n",
       "    <tr>\n",
       "      <th>std</th>\n",
       "      <td>0.029167</td>\n",
       "      <td>7.045933e+07</td>\n",
       "      <td>2179.657730</td>\n",
       "      <td>185.747321</td>\n",
       "      <td>22.908507</td>\n",
       "      <td>15.943028</td>\n",
       "      <td>99151.078547</td>\n",
       "      <td>7.436924</td>\n",
       "      <td>7.436924</td>\n",
       "      <td>191.425623</td>\n",
       "    </tr>\n",
       "    <tr>\n",
       "      <th>min</th>\n",
       "      <td>0.000000</td>\n",
       "      <td>0.000000e+00</td>\n",
       "      <td>0.000000</td>\n",
       "      <td>0.000000</td>\n",
       "      <td>0.000000</td>\n",
       "      <td>1.000000</td>\n",
       "      <td>8.000000</td>\n",
       "      <td>0.000000</td>\n",
       "      <td>0.000000</td>\n",
       "      <td>0.000000</td>\n",
       "    </tr>\n",
       "    <tr>\n",
       "      <th>25%</th>\n",
       "      <td>0.000000</td>\n",
       "      <td>6.128476e+07</td>\n",
       "      <td>0.000000</td>\n",
       "      <td>0.000000</td>\n",
       "      <td>0.000000</td>\n",
       "      <td>8.000000</td>\n",
       "      <td>221452.000000</td>\n",
       "      <td>0.000000</td>\n",
       "      <td>0.000000</td>\n",
       "      <td>0.000000</td>\n",
       "    </tr>\n",
       "    <tr>\n",
       "      <th>50%</th>\n",
       "      <td>0.000000</td>\n",
       "      <td>1.227974e+08</td>\n",
       "      <td>0.000000</td>\n",
       "      <td>0.000000</td>\n",
       "      <td>0.000000</td>\n",
       "      <td>10.000000</td>\n",
       "      <td>249799.500000</td>\n",
       "      <td>0.000000</td>\n",
       "      <td>0.000000</td>\n",
       "      <td>0.000000</td>\n",
       "    </tr>\n",
       "    <tr>\n",
       "      <th>75%</th>\n",
       "      <td>0.000000</td>\n",
       "      <td>1.833096e+08</td>\n",
       "      <td>0.000000</td>\n",
       "      <td>0.000000</td>\n",
       "      <td>0.000000</td>\n",
       "      <td>12.000000</td>\n",
       "      <td>310266.000000</td>\n",
       "      <td>0.000000</td>\n",
       "      <td>0.000000</td>\n",
       "      <td>0.000000</td>\n",
       "    </tr>\n",
       "    <tr>\n",
       "      <th>max</th>\n",
       "      <td>1.000000</td>\n",
       "      <td>2.441405e+08</td>\n",
       "      <td>64968.000000</td>\n",
       "      <td>24929.000000</td>\n",
       "      <td>1666.000000</td>\n",
       "      <td>98.000000</td>\n",
       "      <td>689161.000000</td>\n",
       "      <td>832.000000</td>\n",
       "      <td>832.000000</td>\n",
       "      <td>18701.000000</td>\n",
       "    </tr>\n",
       "  </tbody>\n",
       "</table>\n",
       "</div>"
      ],
      "text/plain": [
       "             failure       metric1        metric2        metric3  \\\n",
       "count  124494.000000  1.244940e+05  124494.000000  124494.000000   \n",
       "mean        0.000851  1.223881e+08     159.484762       9.940455   \n",
       "std         0.029167  7.045933e+07    2179.657730     185.747321   \n",
       "min         0.000000  0.000000e+00       0.000000       0.000000   \n",
       "25%         0.000000  6.128476e+07       0.000000       0.000000   \n",
       "50%         0.000000  1.227974e+08       0.000000       0.000000   \n",
       "75%         0.000000  1.833096e+08       0.000000       0.000000   \n",
       "max         1.000000  2.441405e+08   64968.000000   24929.000000   \n",
       "\n",
       "             metric4        metric5        metric6        metric7  \\\n",
       "count  124494.000000  124494.000000  124494.000000  124494.000000   \n",
       "mean        1.741120      14.222669  260172.657726       0.292528   \n",
       "std        22.908507      15.943028   99151.078547       7.436924   \n",
       "min         0.000000       1.000000       8.000000       0.000000   \n",
       "25%         0.000000       8.000000  221452.000000       0.000000   \n",
       "50%         0.000000      10.000000  249799.500000       0.000000   \n",
       "75%         0.000000      12.000000  310266.000000       0.000000   \n",
       "max      1666.000000      98.000000  689161.000000     832.000000   \n",
       "\n",
       "             metric8        metric9  \n",
       "count  124494.000000  124494.000000  \n",
       "mean        0.292528      12.451524  \n",
       "std         7.436924     191.425623  \n",
       "min         0.000000       0.000000  \n",
       "25%         0.000000       0.000000  \n",
       "50%         0.000000       0.000000  \n",
       "75%         0.000000       0.000000  \n",
       "max       832.000000   18701.000000  "
      ]
     },
     "execution_count": 72,
     "metadata": {},
     "output_type": "execute_result"
    }
   ],
   "source": [
    "g_df.describe()"
   ]
  },
  {
   "cell_type": "code",
   "execution_count": 73,
   "metadata": {},
   "outputs": [
    {
     "data": {
      "text/html": [
       "<div>\n",
       "<style scoped>\n",
       "    .dataframe tbody tr th:only-of-type {\n",
       "        vertical-align: middle;\n",
       "    }\n",
       "\n",
       "    .dataframe tbody tr th {\n",
       "        vertical-align: top;\n",
       "    }\n",
       "\n",
       "    .dataframe thead th {\n",
       "        text-align: right;\n",
       "    }\n",
       "</style>\n",
       "<table border=\"1\" class=\"dataframe\">\n",
       "  <thead>\n",
       "    <tr style=\"text-align: right;\">\n",
       "      <th></th>\n",
       "      <th>perc_missing</th>\n",
       "      <th>total_missing</th>\n",
       "    </tr>\n",
       "  </thead>\n",
       "  <tbody>\n",
       "    <tr>\n",
       "      <th>date</th>\n",
       "      <td>0.0</td>\n",
       "      <td>0</td>\n",
       "    </tr>\n",
       "    <tr>\n",
       "      <th>id</th>\n",
       "      <td>0.0</td>\n",
       "      <td>0</td>\n",
       "    </tr>\n",
       "    <tr>\n",
       "      <th>failure</th>\n",
       "      <td>0.0</td>\n",
       "      <td>0</td>\n",
       "    </tr>\n",
       "    <tr>\n",
       "      <th>metric1</th>\n",
       "      <td>0.0</td>\n",
       "      <td>0</td>\n",
       "    </tr>\n",
       "    <tr>\n",
       "      <th>metric2</th>\n",
       "      <td>0.0</td>\n",
       "      <td>0</td>\n",
       "    </tr>\n",
       "    <tr>\n",
       "      <th>metric3</th>\n",
       "      <td>0.0</td>\n",
       "      <td>0</td>\n",
       "    </tr>\n",
       "    <tr>\n",
       "      <th>metric4</th>\n",
       "      <td>0.0</td>\n",
       "      <td>0</td>\n",
       "    </tr>\n",
       "    <tr>\n",
       "      <th>metric5</th>\n",
       "      <td>0.0</td>\n",
       "      <td>0</td>\n",
       "    </tr>\n",
       "    <tr>\n",
       "      <th>metric6</th>\n",
       "      <td>0.0</td>\n",
       "      <td>0</td>\n",
       "    </tr>\n",
       "    <tr>\n",
       "      <th>metric7</th>\n",
       "      <td>0.0</td>\n",
       "      <td>0</td>\n",
       "    </tr>\n",
       "    <tr>\n",
       "      <th>metric8</th>\n",
       "      <td>0.0</td>\n",
       "      <td>0</td>\n",
       "    </tr>\n",
       "    <tr>\n",
       "      <th>metric9</th>\n",
       "      <td>0.0</td>\n",
       "      <td>0</td>\n",
       "    </tr>\n",
       "  </tbody>\n",
       "</table>\n",
       "</div>"
      ],
      "text/plain": [
       "         perc_missing  total_missing\n",
       "date              0.0              0\n",
       "id                0.0              0\n",
       "failure           0.0              0\n",
       "metric1           0.0              0\n",
       "metric2           0.0              0\n",
       "metric3           0.0              0\n",
       "metric4           0.0              0\n",
       "metric5           0.0              0\n",
       "metric6           0.0              0\n",
       "metric7           0.0              0\n",
       "metric8           0.0              0\n",
       "metric9           0.0              0"
      ]
     },
     "execution_count": 73,
     "metadata": {},
     "output_type": "execute_result"
    }
   ],
   "source": [
    "#No missing data\n",
    "missing_data = pd.DataFrame({'total_missing': g_df.isnull().sum(), 'perc_missing': (g_df.isnull().mean())})\n",
    "missing_data"
   ]
  },
  {
   "cell_type": "code",
   "execution_count": 74,
   "metadata": {},
   "outputs": [
    {
     "data": {
      "text/plain": [
       "1169"
      ]
     },
     "execution_count": 74,
     "metadata": {},
     "output_type": "execute_result"
    }
   ],
   "source": [
    "#Total no of unique machines\n",
    "g_df.id.nunique()"
   ]
  },
  {
   "cell_type": "code",
   "execution_count": 75,
   "metadata": {},
   "outputs": [
    {
     "data": {
      "text/plain": [
       "0    124388\n",
       "1       106\n",
       "Name: failure, dtype: int64"
      ]
     },
     "execution_count": 75,
     "metadata": {},
     "output_type": "execute_result"
    }
   ],
   "source": [
    "g_df.failure.value_counts()\n",
    "# 1 - failure \n",
    "# 0 - non failure"
   ]
  },
  {
   "cell_type": "code",
   "execution_count": 78,
   "metadata": {},
   "outputs": [
    {
     "data": {
      "text/plain": [
       "S1F0FP0C    304\n",
       "S1F0GCED    304\n",
       "W1F0JXDL    304\n",
       "S1F0FGBQ    304\n",
       "Z1F0QLC1    304\n",
       "S1F0EGMT    304\n",
       "Z1F0GE1M    304\n",
       "Z1F0KKN4    304\n",
       "W1F0FY92    304\n",
       "Z1F0GB8A    304\n",
       "S1F0E9EP    304\n",
       "S1F0GGPP    304\n",
       "W1F0G9T7    304\n",
       "W1F0SJJ2    304\n",
       "W1F0FEH7    304\n",
       "S1F0GPXY    304\n",
       "S1F0KYCR    304\n",
       "W1F05X69    304\n",
       "W1F0JY02    304\n",
       "Z1F0MA1S    304\n",
       "Z1F0KJDS    304\n",
       "Z1F0Q8RT    304\n",
       "Z1F0QK05    304\n",
       "S1F0H6JG    304\n",
       "Z1F0QL3N    304\n",
       "W1F0JH87    304\n",
       "W1F0FZPA    304\n",
       "W1F0T0B1    299\n",
       "Z1F1A0RP    295\n",
       "W1F19J5Q    295\n",
       "Z1F1A1HH    295\n",
       "W1F1BRM3    295\n",
       "Z1F1479Y    295\n",
       "S1F12XGM    295\n",
       "S1F13MAM    295\n",
       "W1F1BFHS    295\n",
       "W1F1N6V6    295\n",
       "Z1F11SL0    295\n",
       "Z1F1652D    295\n",
       "Z1F11SYE    295\n",
       "S1F100R5    295\n",
       "S1F13CMG    295\n",
       "S1F135SZ    295\n",
       "S1F131F6    295\n",
       "S1F122KD    295\n",
       "S1F10FF0    295\n",
       "Z1F18YB3    295\n",
       "S1F11C16    295\n",
       "W1F1CJ3G    295\n",
       "S1F12ZRR    295\n",
       "Name: id, dtype: int64"
      ]
     },
     "execution_count": 78,
     "metadata": {},
     "output_type": "execute_result"
    }
   ],
   "source": [
    "g_df.id.value_counts()[:50]"
   ]
  },
  {
   "cell_type": "code",
   "execution_count": 77,
   "metadata": {},
   "outputs": [
    {
     "name": "stdout",
     "output_type": "stream",
     "text": [
      "Failure rate in %: 0.0851446656063746\n"
     ]
    }
   ],
   "source": [
    "#Calculating Failure rate\n",
    "failure_rate = g_df.failure.value_counts()[1]/(g_df.failure.value_counts()[1]+g_df.failure.value_counts()[0]) *100\n",
    "print(\"Failure rate in %:\", failure_rate)"
   ]
  },
  {
   "cell_type": "code",
   "execution_count": 79,
   "metadata": {},
   "outputs": [
    {
     "data": {
      "text/plain": [
       "count       124494\n",
       "unique        1169\n",
       "top       S1F0FP0C\n",
       "freq           304\n",
       "Name: id, dtype: object"
      ]
     },
     "execution_count": 79,
     "metadata": {},
     "output_type": "execute_result"
    }
   ],
   "source": [
    "g_df['id'].describe()"
   ]
  },
  {
   "cell_type": "code",
   "execution_count": 81,
   "metadata": {},
   "outputs": [
    {
     "name": "stdout",
     "output_type": "stream",
     "text": [
      "----------------------------------------------------------------\n",
      "date_ym:\n",
      "Unique Column values:\n",
      "----------------------------------------------------------------\n",
      "['2015-01' '2015-02' '2015-03' '2015-04' '2015-05' '2015-06' '2015-07'\n",
      " '2015-08' '2015-09' '2015-10' '2015-11']\n",
      "----------------------------------------------------------------\n",
      "Count of unique column values:\n",
      "11\n",
      "----------------------------------------------------------------\n",
      "Counts:\n",
      "2015-01    25032\n",
      "2015-03    19833\n",
      "2015-02    19500\n",
      "2015-04    12012\n",
      "2015-05    11330\n",
      "2015-07    10531\n",
      "2015-06    10469\n",
      "2015-08     8346\n",
      "2015-09     4470\n",
      "2015-10     2940\n",
      "2015-11       31\n",
      "Name: date_ym, dtype: int64\n"
     ]
    }
   ],
   "source": [
    "#Understanding date distribution\n",
    "g_df[\"date_dt\"] = pd.to_datetime(g_df[\"date\"])\n",
    "g_df['date_ym']=g_df['date_dt'].map(lambda x: x.strftime('%Y-%m'))\n",
    "t1=g_df[['date_ym']]\n",
    "for column in t1.columns:\n",
    "    print(\"----------------------------------------------------------------\")\n",
    "    print(column+\":\")\n",
    "    print(\"Unique Column values:\")\n",
    "    print(\"----------------------------------------------------------------\")\n",
    "    print(g_df[column].unique())\n",
    "    print(\"----------------------------------------------------------------\")\n",
    "    print(\"Count of unique column values:\")\n",
    "    print(g_df[column].nunique())\n",
    "    print(\"----------------------------------------------------------------\")\n",
    "    print(\"Counts:\")\n",
    "    print(g_df[column].value_counts())\n"
   ]
  },
  {
   "cell_type": "code",
   "execution_count": 82,
   "metadata": {},
   "outputs": [
    {
     "data": {
      "text/plain": [
       "count                  124494\n",
       "unique                    304\n",
       "top       2015-01-03 00:00:00\n",
       "freq                     1163\n",
       "first     2015-01-01 00:00:00\n",
       "last      2015-11-02 00:00:00\n",
       "Name: date_dt, dtype: object"
      ]
     },
     "execution_count": 82,
     "metadata": {},
     "output_type": "execute_result"
    }
   ],
   "source": [
    "g_df['date_dt'].describe()"
   ]
  },
  {
   "cell_type": "code",
   "execution_count": 16,
   "metadata": {},
   "outputs": [
    {
     "data": {
      "text/plain": [
       "2015-01-03    1163\n",
       "2015-01-01    1163\n",
       "2015-01-02    1163\n",
       "2015-01-04    1162\n",
       "2015-01-05    1161\n",
       "2015-01-06    1054\n",
       "2015-01-07     798\n",
       "2015-01-08     756\n",
       "2015-01-09     756\n",
       "2015-01-12     755\n",
       "2015-01-13     755\n",
       "2015-01-11     755\n",
       "2015-01-10     755\n",
       "2015-01-14     716\n",
       "2015-01-17     715\n",
       "2015-01-16     715\n",
       "2015-01-29     715\n",
       "2015-01-15     715\n",
       "2015-01-18     714\n",
       "2015-01-20     713\n",
       "2015-01-19     713\n",
       "2015-01-22     712\n",
       "2015-01-28     712\n",
       "2015-02-10     712\n",
       "2015-02-05     712\n",
       "2015-02-03     712\n",
       "2015-01-21     712\n",
       "2015-01-24     712\n",
       "2015-01-31     712\n",
       "2015-02-07     712\n",
       "              ... \n",
       "2015-09-04     146\n",
       "2015-09-08     146\n",
       "2015-10-04     146\n",
       "2015-10-09     141\n",
       "2015-10-06     141\n",
       "2015-10-07     141\n",
       "2015-10-08     141\n",
       "2015-10-10     140\n",
       "2015-10-12     140\n",
       "2015-10-11     140\n",
       "2015-09-03     115\n",
       "2015-10-14     111\n",
       "2015-10-13     111\n",
       "2015-10-18     109\n",
       "2015-10-19     109\n",
       "2015-10-16     109\n",
       "2015-10-17     109\n",
       "2015-10-15     109\n",
       "2015-10-22      69\n",
       "2015-10-20      69\n",
       "2015-10-21      69\n",
       "2015-10-26      32\n",
       "2015-10-23      32\n",
       "2015-10-24      32\n",
       "2015-10-25      32\n",
       "2015-11-02      31\n",
       "2015-10-31      31\n",
       "2015-10-27      31\n",
       "2015-10-30      31\n",
       "2015-10-29      31\n",
       "Name: date_dt, Length: 304, dtype: int64"
      ]
     },
     "execution_count": 16,
     "metadata": {},
     "output_type": "execute_result"
    }
   ],
   "source": [
    "g_df['date_dt'].value_counts()"
   ]
  },
  {
   "cell_type": "code",
   "execution_count": 83,
   "metadata": {},
   "outputs": [
    {
     "data": {
      "text/plain": [
       "Text(0.5, 1.0, 'Frequency distribution of date_ym')"
      ]
     },
     "execution_count": 83,
     "metadata": {},
     "output_type": "execute_result"
    },
    {
     "data": {
      "image/png": "[encoded data removed]",
      "text/plain": [
       "<Figure size 432x288 with 1 Axes>"
      ]
     },
     "metadata": {},
     "output_type": "display_data"
    }
   ],
   "source": [
    "import seaborn as sns\n",
    "d=g_df['date_ym'].value_counts()[:20]\n",
    "sns.barplot(x= d.values, y = d.index)\n",
    "plt.xlabel('Number of Occurrences', fontsize=12)\n",
    "plt.ylabel('date', fontsize=12)\n",
    "plt.title('Frequency distribution of date_ym',fontsize=12)"
   ]
  },
  {
   "cell_type": "code",
   "execution_count": 84,
   "metadata": {},
   "outputs": [
    {
     "data": {
      "text/html": [
       "<div>\n",
       "<style scoped>\n",
       "    .dataframe tbody tr th:only-of-type {\n",
       "        vertical-align: middle;\n",
       "    }\n",
       "\n",
       "    .dataframe tbody tr th {\n",
       "        vertical-align: top;\n",
       "    }\n",
       "\n",
       "    .dataframe thead th {\n",
       "        text-align: right;\n",
       "    }\n",
       "</style>\n",
       "<table border=\"1\" class=\"dataframe\">\n",
       "  <thead>\n",
       "    <tr style=\"text-align: right;\">\n",
       "      <th></th>\n",
       "      <th>date</th>\n",
       "      <th>id</th>\n",
       "      <th>failure</th>\n",
       "      <th>metric1</th>\n",
       "      <th>metric2</th>\n",
       "      <th>metric3</th>\n",
       "      <th>metric4</th>\n",
       "      <th>metric5</th>\n",
       "      <th>metric6</th>\n",
       "      <th>metric7</th>\n",
       "      <th>metric8</th>\n",
       "      <th>metric9</th>\n",
       "      <th>date_dt</th>\n",
       "      <th>date_ym</th>\n",
       "    </tr>\n",
       "  </thead>\n",
       "  <tbody>\n",
       "    <tr>\n",
       "      <th>0</th>\n",
       "      <td>2015-01-01</td>\n",
       "      <td>S1F01085</td>\n",
       "      <td>0</td>\n",
       "      <td>215630672</td>\n",
       "      <td>56</td>\n",
       "      <td>0</td>\n",
       "      <td>52</td>\n",
       "      <td>6</td>\n",
       "      <td>407438</td>\n",
       "      <td>0</td>\n",
       "      <td>0</td>\n",
       "      <td>7</td>\n",
       "      <td>2015-01-01</td>\n",
       "      <td>2015-01</td>\n",
       "    </tr>\n",
       "    <tr>\n",
       "      <th>1</th>\n",
       "      <td>2015-01-01</td>\n",
       "      <td>S1F0166B</td>\n",
       "      <td>0</td>\n",
       "      <td>61370680</td>\n",
       "      <td>0</td>\n",
       "      <td>3</td>\n",
       "      <td>0</td>\n",
       "      <td>6</td>\n",
       "      <td>403174</td>\n",
       "      <td>0</td>\n",
       "      <td>0</td>\n",
       "      <td>0</td>\n",
       "      <td>2015-01-01</td>\n",
       "      <td>2015-01</td>\n",
       "    </tr>\n",
       "    <tr>\n",
       "      <th>2</th>\n",
       "      <td>2015-01-01</td>\n",
       "      <td>S1F01E6Y</td>\n",
       "      <td>0</td>\n",
       "      <td>173295968</td>\n",
       "      <td>0</td>\n",
       "      <td>0</td>\n",
       "      <td>0</td>\n",
       "      <td>12</td>\n",
       "      <td>237394</td>\n",
       "      <td>0</td>\n",
       "      <td>0</td>\n",
       "      <td>0</td>\n",
       "      <td>2015-01-01</td>\n",
       "      <td>2015-01</td>\n",
       "    </tr>\n",
       "    <tr>\n",
       "      <th>3</th>\n",
       "      <td>2015-01-01</td>\n",
       "      <td>S1F01JE0</td>\n",
       "      <td>0</td>\n",
       "      <td>79694024</td>\n",
       "      <td>0</td>\n",
       "      <td>0</td>\n",
       "      <td>0</td>\n",
       "      <td>6</td>\n",
       "      <td>410186</td>\n",
       "      <td>0</td>\n",
       "      <td>0</td>\n",
       "      <td>0</td>\n",
       "      <td>2015-01-01</td>\n",
       "      <td>2015-01</td>\n",
       "    </tr>\n",
       "    <tr>\n",
       "      <th>4</th>\n",
       "      <td>2015-01-01</td>\n",
       "      <td>S1F01R2B</td>\n",
       "      <td>0</td>\n",
       "      <td>135970480</td>\n",
       "      <td>0</td>\n",
       "      <td>0</td>\n",
       "      <td>0</td>\n",
       "      <td>15</td>\n",
       "      <td>313173</td>\n",
       "      <td>0</td>\n",
       "      <td>0</td>\n",
       "      <td>3</td>\n",
       "      <td>2015-01-01</td>\n",
       "      <td>2015-01</td>\n",
       "    </tr>\n",
       "  </tbody>\n",
       "</table>\n",
       "</div>"
      ],
      "text/plain": [
       "         date        id  failure    metric1  metric2  metric3  metric4  \\\n",
       "0  2015-01-01  S1F01085        0  215630672       56        0       52   \n",
       "1  2015-01-01  S1F0166B        0   61370680        0        3        0   \n",
       "2  2015-01-01  S1F01E6Y        0  173295968        0        0        0   \n",
       "3  2015-01-01  S1F01JE0        0   79694024        0        0        0   \n",
       "4  2015-01-01  S1F01R2B        0  135970480        0        0        0   \n",
       "\n",
       "   metric5  metric6  metric7  metric8  metric9    date_dt  date_ym  \n",
       "0        6   407438        0        0        7 2015-01-01  2015-01  \n",
       "1        6   403174        0        0        0 2015-01-01  2015-01  \n",
       "2       12   237394        0        0        0 2015-01-01  2015-01  \n",
       "3        6   410186        0        0        0 2015-01-01  2015-01  \n",
       "4       15   313173        0        0        3 2015-01-01  2015-01  "
      ]
     },
     "execution_count": 84,
     "metadata": {},
     "output_type": "execute_result"
    }
   ],
   "source": [
    "g_df.head()"
   ]
  },
  {
   "cell_type": "code",
   "execution_count": 85,
   "metadata": {},
   "outputs": [
    {
     "data": {
      "text/html": [
       "<div>\n",
       "<style scoped>\n",
       "    .dataframe tbody tr th:only-of-type {\n",
       "        vertical-align: middle;\n",
       "    }\n",
       "\n",
       "    .dataframe tbody tr th {\n",
       "        vertical-align: top;\n",
       "    }\n",
       "\n",
       "    .dataframe thead th {\n",
       "        text-align: right;\n",
       "    }\n",
       "</style>\n",
       "<table border=\"1\" class=\"dataframe\">\n",
       "  <thead>\n",
       "    <tr style=\"text-align: right;\">\n",
       "      <th></th>\n",
       "      <th>failure</th>\n",
       "    </tr>\n",
       "    <tr>\n",
       "      <th>date_ym</th>\n",
       "      <th></th>\n",
       "    </tr>\n",
       "  </thead>\n",
       "  <tbody>\n",
       "    <tr>\n",
       "      <th>2015-01</th>\n",
       "      <td>24</td>\n",
       "    </tr>\n",
       "    <tr>\n",
       "      <th>2015-02</th>\n",
       "      <td>14</td>\n",
       "    </tr>\n",
       "    <tr>\n",
       "      <th>2015-03</th>\n",
       "      <td>9</td>\n",
       "    </tr>\n",
       "    <tr>\n",
       "      <th>2015-04</th>\n",
       "      <td>9</td>\n",
       "    </tr>\n",
       "    <tr>\n",
       "      <th>2015-05</th>\n",
       "      <td>21</td>\n",
       "    </tr>\n",
       "    <tr>\n",
       "      <th>2015-06</th>\n",
       "      <td>6</td>\n",
       "    </tr>\n",
       "    <tr>\n",
       "      <th>2015-07</th>\n",
       "      <td>16</td>\n",
       "    </tr>\n",
       "    <tr>\n",
       "      <th>2015-08</th>\n",
       "      <td>4</td>\n",
       "    </tr>\n",
       "    <tr>\n",
       "      <th>2015-09</th>\n",
       "      <td>0</td>\n",
       "    </tr>\n",
       "    <tr>\n",
       "      <th>2015-10</th>\n",
       "      <td>3</td>\n",
       "    </tr>\n",
       "    <tr>\n",
       "      <th>2015-11</th>\n",
       "      <td>0</td>\n",
       "    </tr>\n",
       "  </tbody>\n",
       "</table>\n",
       "</div>"
      ],
      "text/plain": [
       "         failure\n",
       "date_ym         \n",
       "2015-01       24\n",
       "2015-02       14\n",
       "2015-03        9\n",
       "2015-04        9\n",
       "2015-05       21\n",
       "2015-06        6\n",
       "2015-07       16\n",
       "2015-08        4\n",
       "2015-09        0\n",
       "2015-10        3\n",
       "2015-11        0"
      ]
     },
     "execution_count": 85,
     "metadata": {},
     "output_type": "execute_result"
    }
   ],
   "source": [
    "#Total no of failures by month\n",
    "g_df.groupby('date_ym').agg({'failure':'sum'})"
   ]
  },
  {
   "cell_type": "code",
   "execution_count": 86,
   "metadata": {},
   "outputs": [
    {
     "data": {
      "text/html": [
       "<div>\n",
       "<style scoped>\n",
       "    .dataframe tbody tr th:only-of-type {\n",
       "        vertical-align: middle;\n",
       "    }\n",
       "\n",
       "    .dataframe tbody tr th {\n",
       "        vertical-align: top;\n",
       "    }\n",
       "\n",
       "    .dataframe thead th {\n",
       "        text-align: right;\n",
       "    }\n",
       "</style>\n",
       "<table border=\"1\" class=\"dataframe\">\n",
       "  <thead>\n",
       "    <tr style=\"text-align: right;\">\n",
       "      <th></th>\n",
       "      <th>date</th>\n",
       "      <th>id</th>\n",
       "      <th>failure</th>\n",
       "      <th>metric1</th>\n",
       "      <th>metric2</th>\n",
       "      <th>metric3</th>\n",
       "      <th>metric4</th>\n",
       "      <th>metric5</th>\n",
       "      <th>metric6</th>\n",
       "      <th>metric7</th>\n",
       "      <th>metric8</th>\n",
       "      <th>metric9</th>\n",
       "      <th>date_dt</th>\n",
       "      <th>date_ym</th>\n",
       "    </tr>\n",
       "  </thead>\n",
       "  <tbody>\n",
       "  </tbody>\n",
       "</table>\n",
       "</div>"
      ],
      "text/plain": [
       "Empty DataFrame\n",
       "Columns: [date, id, failure, metric1, metric2, metric3, metric4, metric5, metric6, metric7, metric8, metric9, date_dt, date_ym]\n",
       "Index: []"
      ]
     },
     "execution_count": 86,
     "metadata": {},
     "output_type": "execute_result"
    }
   ],
   "source": [
    "#Confirming that there were 0 failures on the first day\n",
    "g_df.loc[(g_df['failure']==1) & (g_df['date']=='2015-01-01')].sort_values(by = ['date_dt'],ascending = True)"
   ]
  },
  {
   "cell_type": "code",
   "execution_count": 23,
   "metadata": {},
   "outputs": [
    {
     "data": {
      "text/html": [
       "<div>\n",
       "<style scoped>\n",
       "    .dataframe tbody tr th:only-of-type {\n",
       "        vertical-align: middle;\n",
       "    }\n",
       "\n",
       "    .dataframe tbody tr th {\n",
       "        vertical-align: top;\n",
       "    }\n",
       "\n",
       "    .dataframe thead th {\n",
       "        text-align: right;\n",
       "    }\n",
       "</style>\n",
       "<table border=\"1\" class=\"dataframe\">\n",
       "  <thead>\n",
       "    <tr style=\"text-align: right;\">\n",
       "      <th></th>\n",
       "      <th>failure</th>\n",
       "    </tr>\n",
       "    <tr>\n",
       "      <th>id</th>\n",
       "      <th></th>\n",
       "    </tr>\n",
       "  </thead>\n",
       "  <tbody>\n",
       "    <tr>\n",
       "      <th>Z1F0LSNZ</th>\n",
       "      <td>1</td>\n",
       "    </tr>\n",
       "    <tr>\n",
       "      <th>W1F1230J</th>\n",
       "      <td>1</td>\n",
       "    </tr>\n",
       "    <tr>\n",
       "      <th>Z1F0P5D9</th>\n",
       "      <td>1</td>\n",
       "    </tr>\n",
       "    <tr>\n",
       "      <th>S1F0L0DW</th>\n",
       "      <td>1</td>\n",
       "    </tr>\n",
       "    <tr>\n",
       "      <th>W1F1DQN8</th>\n",
       "      <td>1</td>\n",
       "    </tr>\n",
       "    <tr>\n",
       "      <th>S1F0JGJV</th>\n",
       "      <td>1</td>\n",
       "    </tr>\n",
       "    <tr>\n",
       "      <th>S1F0JD7P</th>\n",
       "      <td>1</td>\n",
       "    </tr>\n",
       "    <tr>\n",
       "      <th>S1F0J5JH</th>\n",
       "      <td>1</td>\n",
       "    </tr>\n",
       "    <tr>\n",
       "      <th>Z1F0QH0C</th>\n",
       "      <td>1</td>\n",
       "    </tr>\n",
       "    <tr>\n",
       "      <th>S1F0GSHB</th>\n",
       "      <td>1</td>\n",
       "    </tr>\n",
       "    <tr>\n",
       "      <th>S1F0GSD9</th>\n",
       "      <td>1</td>\n",
       "    </tr>\n",
       "    <tr>\n",
       "      <th>W1F0TA59</th>\n",
       "      <td>1</td>\n",
       "    </tr>\n",
       "    <tr>\n",
       "      <th>S1F0GKL6</th>\n",
       "      <td>1</td>\n",
       "    </tr>\n",
       "    <tr>\n",
       "      <th>S1F0GKFX</th>\n",
       "      <td>1</td>\n",
       "    </tr>\n",
       "    <tr>\n",
       "      <th>S1F0GJW3</th>\n",
       "      <td>1</td>\n",
       "    </tr>\n",
       "    <tr>\n",
       "      <th>W1F11ZG9</th>\n",
       "      <td>1</td>\n",
       "    </tr>\n",
       "    <tr>\n",
       "      <th>S1F0S4CA</th>\n",
       "      <td>1</td>\n",
       "    </tr>\n",
       "    <tr>\n",
       "      <th>Z1F0NVZA</th>\n",
       "      <td>1</td>\n",
       "    </tr>\n",
       "    <tr>\n",
       "      <th>S1F0GG8X</th>\n",
       "      <td>1</td>\n",
       "    </tr>\n",
       "    <tr>\n",
       "      <th>S1F0S4EG</th>\n",
       "      <td>1</td>\n",
       "    </tr>\n",
       "    <tr>\n",
       "      <th>W1F03D4L</th>\n",
       "      <td>1</td>\n",
       "    </tr>\n",
       "    <tr>\n",
       "      <th>W1F03DP4</th>\n",
       "      <td>1</td>\n",
       "    </tr>\n",
       "    <tr>\n",
       "      <th>W1F0T0B1</th>\n",
       "      <td>1</td>\n",
       "    </tr>\n",
       "    <tr>\n",
       "      <th>W1F0T074</th>\n",
       "      <td>1</td>\n",
       "    </tr>\n",
       "    <tr>\n",
       "      <th>W1F0T034</th>\n",
       "      <td>1</td>\n",
       "    </tr>\n",
       "    <tr>\n",
       "      <th>S1F0F4EB</th>\n",
       "      <td>1</td>\n",
       "    </tr>\n",
       "    <tr>\n",
       "      <th>W1F08EDA</th>\n",
       "      <td>1</td>\n",
       "    </tr>\n",
       "    <tr>\n",
       "      <th>S1F0S4T6</th>\n",
       "      <td>1</td>\n",
       "    </tr>\n",
       "    <tr>\n",
       "      <th>S1F0DSTY</th>\n",
       "      <td>1</td>\n",
       "    </tr>\n",
       "    <tr>\n",
       "      <th>W1F13SRV</th>\n",
       "      <td>1</td>\n",
       "    </tr>\n",
       "    <tr>\n",
       "      <th>...</th>\n",
       "      <td>...</td>\n",
       "    </tr>\n",
       "    <tr>\n",
       "      <th>S1F09DZQ</th>\n",
       "      <td>1</td>\n",
       "    </tr>\n",
       "    <tr>\n",
       "      <th>W1F15S4D</th>\n",
       "      <td>1</td>\n",
       "    </tr>\n",
       "    <tr>\n",
       "      <th>Z1F1RJFA</th>\n",
       "      <td>1</td>\n",
       "    </tr>\n",
       "    <tr>\n",
       "      <th>W1F0GCAZ</th>\n",
       "      <td>1</td>\n",
       "    </tr>\n",
       "    <tr>\n",
       "      <th>Z1F1901P</th>\n",
       "      <td>1</td>\n",
       "    </tr>\n",
       "    <tr>\n",
       "      <th>S1F0S65X</th>\n",
       "      <td>1</td>\n",
       "    </tr>\n",
       "    <tr>\n",
       "      <th>W1F1BS0H</th>\n",
       "      <td>1</td>\n",
       "    </tr>\n",
       "    <tr>\n",
       "      <th>S1F023H2</th>\n",
       "      <td>1</td>\n",
       "    </tr>\n",
       "    <tr>\n",
       "      <th>W1F0P114</th>\n",
       "      <td>1</td>\n",
       "    </tr>\n",
       "    <tr>\n",
       "      <th>W1F0NZZZ</th>\n",
       "      <td>1</td>\n",
       "    </tr>\n",
       "    <tr>\n",
       "      <th>S1F0T2LA</th>\n",
       "      <td>1</td>\n",
       "    </tr>\n",
       "    <tr>\n",
       "      <th>W1F1CJ1K</th>\n",
       "      <td>1</td>\n",
       "    </tr>\n",
       "    <tr>\n",
       "      <th>W1F19BPT</th>\n",
       "      <td>1</td>\n",
       "    </tr>\n",
       "    <tr>\n",
       "      <th>W1F1CDDP</th>\n",
       "      <td>1</td>\n",
       "    </tr>\n",
       "    <tr>\n",
       "      <th>W1F1BZTM</th>\n",
       "      <td>1</td>\n",
       "    </tr>\n",
       "    <tr>\n",
       "      <th>W1F0KCP2</th>\n",
       "      <td>1</td>\n",
       "    </tr>\n",
       "    <tr>\n",
       "      <th>S1F03YZM</th>\n",
       "      <td>1</td>\n",
       "    </tr>\n",
       "    <tr>\n",
       "      <th>Z1F1FCH5</th>\n",
       "      <td>1</td>\n",
       "    </tr>\n",
       "    <tr>\n",
       "      <th>W1F1CB5E</th>\n",
       "      <td>1</td>\n",
       "    </tr>\n",
       "    <tr>\n",
       "      <th>W1F0M4BZ</th>\n",
       "      <td>1</td>\n",
       "    </tr>\n",
       "    <tr>\n",
       "      <th>Z1F1AG5N</th>\n",
       "      <td>1</td>\n",
       "    </tr>\n",
       "    <tr>\n",
       "      <th>W1F1C9TE</th>\n",
       "      <td>1</td>\n",
       "    </tr>\n",
       "    <tr>\n",
       "      <th>W1F1C9WG</th>\n",
       "      <td>1</td>\n",
       "    </tr>\n",
       "    <tr>\n",
       "      <th>Z1F1VQFY</th>\n",
       "      <td>1</td>\n",
       "    </tr>\n",
       "    <tr>\n",
       "      <th>W1F0M35B</th>\n",
       "      <td>1</td>\n",
       "    </tr>\n",
       "    <tr>\n",
       "      <th>Z1F1653X</th>\n",
       "      <td>1</td>\n",
       "    </tr>\n",
       "    <tr>\n",
       "      <th>W1F0PNA5</th>\n",
       "      <td>1</td>\n",
       "    </tr>\n",
       "    <tr>\n",
       "      <th>W1F1BFP5</th>\n",
       "      <td>1</td>\n",
       "    </tr>\n",
       "    <tr>\n",
       "      <th>W1F0Q8FH</th>\n",
       "      <td>1</td>\n",
       "    </tr>\n",
       "    <tr>\n",
       "      <th>Z1F148T1</th>\n",
       "      <td>1</td>\n",
       "    </tr>\n",
       "  </tbody>\n",
       "</table>\n",
       "<p>100 rows × 1 columns</p>\n",
       "</div>"
      ],
      "text/plain": [
       "          failure\n",
       "id               \n",
       "Z1F0LSNZ        1\n",
       "W1F1230J        1\n",
       "Z1F0P5D9        1\n",
       "S1F0L0DW        1\n",
       "W1F1DQN8        1\n",
       "S1F0JGJV        1\n",
       "S1F0JD7P        1\n",
       "S1F0J5JH        1\n",
       "Z1F0QH0C        1\n",
       "S1F0GSHB        1\n",
       "S1F0GSD9        1\n",
       "W1F0TA59        1\n",
       "S1F0GKL6        1\n",
       "S1F0GKFX        1\n",
       "S1F0GJW3        1\n",
       "W1F11ZG9        1\n",
       "S1F0S4CA        1\n",
       "Z1F0NVZA        1\n",
       "S1F0GG8X        1\n",
       "S1F0S4EG        1\n",
       "W1F03D4L        1\n",
       "W1F03DP4        1\n",
       "W1F0T0B1        1\n",
       "W1F0T074        1\n",
       "W1F0T034        1\n",
       "S1F0F4EB        1\n",
       "W1F08EDA        1\n",
       "S1F0S4T6        1\n",
       "S1F0DSTY        1\n",
       "W1F13SRV        1\n",
       "...           ...\n",
       "S1F09DZQ        1\n",
       "W1F15S4D        1\n",
       "Z1F1RJFA        1\n",
       "W1F0GCAZ        1\n",
       "Z1F1901P        1\n",
       "S1F0S65X        1\n",
       "W1F1BS0H        1\n",
       "S1F023H2        1\n",
       "W1F0P114        1\n",
       "W1F0NZZZ        1\n",
       "S1F0T2LA        1\n",
       "W1F1CJ1K        1\n",
       "W1F19BPT        1\n",
       "W1F1CDDP        1\n",
       "W1F1BZTM        1\n",
       "W1F0KCP2        1\n",
       "S1F03YZM        1\n",
       "Z1F1FCH5        1\n",
       "W1F1CB5E        1\n",
       "W1F0M4BZ        1\n",
       "Z1F1AG5N        1\n",
       "W1F1C9TE        1\n",
       "W1F1C9WG        1\n",
       "Z1F1VQFY        1\n",
       "W1F0M35B        1\n",
       "Z1F1653X        1\n",
       "W1F0PNA5        1\n",
       "W1F1BFP5        1\n",
       "W1F0Q8FH        1\n",
       "Z1F148T1        1\n",
       "\n",
       "[100 rows x 1 columns]"
      ]
     },
     "execution_count": 23,
     "metadata": {},
     "output_type": "execute_result"
    }
   ],
   "source": [
    "#Looks like every machine failed once or less \n",
    "g_df.groupby('id').agg({'failure':'sum'}).sort_values(by = ['failure'],ascending = False)[:100]"
   ]
  },
  {
   "cell_type": "code",
   "execution_count": 87,
   "metadata": {},
   "outputs": [
    {
     "data": {
      "image/png": "[encoded data removed]",
      "text/plain": [
       "<Figure size 1080x360 with 2 Axes>"
      ]
     },
     "metadata": {},
     "output_type": "display_data"
    }
   ],
   "source": [
    "#plot mean and median metrics by date_ym\n",
    "fig,ax = plt.subplots(1,2,figsize = (20,4)) \n",
    "g_df['metric11']=g_df['metric1']\n",
    "df1 = g_df.groupby([\"date_ym\"], as_index=False).agg({'metric1': 'mean','metric11': 'median'}).rename(columns = {'metric1':'mean_metric1', 'metric11': 'median_metric1'}) \n",
    "ax[0] = df1.plot(x='date_ym', y=['mean_metric1', 'median_metric1'], kind='line', style=\"-o\", figsize=(15,5),ax=ax[0])\n",
    "ax[0].set_ylabel(\"metric1\")\n",
    "\n",
    "g_df['metric22']=g_df['metric2']\n",
    "df2 = g_df.groupby([\"date_ym\"], as_index=False).agg({'metric2': 'mean','metric22': 'median'}).rename(columns = {'metric2':'mean_metric2', 'metric22': 'median_metric2'}) \n",
    "ax[1] = df2.plot(x='date_ym', y=['mean_metric2', 'median_metric2'], kind='line', style=\"-o\", figsize=(15,5),ax=ax[1])\n",
    "ax[1].set_ylabel(\"metric2\")\n",
    "\n",
    "plt.show()"
   ]
  },
  {
   "cell_type": "code",
   "execution_count": 88,
   "metadata": {},
   "outputs": [
    {
     "data": {
      "image/png": "[encoded data removed]",
      "text/plain": [
       "<Figure size 1080x360 with 2 Axes>"
      ]
     },
     "metadata": {},
     "output_type": "display_data"
    }
   ],
   "source": [
    "#plot mean and median metrics by date_ym\n",
    "fig,ax = plt.subplots(1,2,figsize = (20,4)) \n",
    "g_df['metric33']=g_df['metric3']\n",
    "df1 = g_df.groupby([\"date_ym\"], as_index=False).agg({'metric3': 'mean','metric33': 'median'}).rename(columns = {'metric3':'mean_metric3', 'metric33': 'median_metric3'}) \n",
    "ax[0] = df1.plot(x='date_ym', y=['mean_metric3', 'median_metric3'], kind='line', style=\"-o\", figsize=(15,5),ax=ax[0])\n",
    "ax[0].set_ylabel(\"metric3\")\n",
    "\n",
    "g_df['metric44']=g_df['metric4']\n",
    "df2 = g_df.groupby([\"date_ym\"], as_index=False).agg({'metric4': 'mean','metric44': 'median'}).rename(columns = {'metric4':'mean_metric4', 'metric44': 'median_metric4'}) \n",
    "ax[1] = df2.plot(x='date_ym', y=['mean_metric4', 'median_metric4'], kind='line', style=\"-o\", figsize=(15,5),ax=ax[1])\n",
    "ax[1].set_ylabel(\"metric4\")\n",
    "\n",
    "plt.show()\n"
   ]
  },
  {
   "cell_type": "code",
   "execution_count": 89,
   "metadata": {},
   "outputs": [
    {
     "data": {
      "image/png": "[encoded data removed]",
      "text/plain": [
       "<Figure size 1080x360 with 2 Axes>"
      ]
     },
     "metadata": {},
     "output_type": "display_data"
    }
   ],
   "source": [
    "#plot mean and median metrics by date_ym\n",
    "fig,ax = plt.subplots(1,2,figsize = (20,4)) \n",
    "g_df['metric55']=g_df['metric5']\n",
    "df1 = g_df.groupby([\"date_ym\"], as_index=False).agg({'metric5': 'mean','metric55': 'median'}).rename(columns = {'metric5':'mean_metric5', 'metric55': 'median_metric5'}) \n",
    "ax[0] = df1.plot(x='date_ym', y=['mean_metric5', 'median_metric5'], kind='line', style=\"-o\", figsize=(15,5),ax=ax[0])\n",
    "ax[0].set_ylabel(\"metric5\")\n",
    "\n",
    "g_df['metric66']=g_df['metric6']\n",
    "df2 = g_df.groupby([\"date_ym\"], as_index=False).agg({'metric6': 'mean','metric66': 'median'}).rename(columns = {'metric6':'mean_metric6', 'metric66': 'median_metric6'}) \n",
    "ax[1] = df2.plot(x='date_ym', y=['mean_metric6', 'median_metric6'], kind='line', style=\"-o\", figsize=(15,5),ax=ax[1])\n",
    "ax[1].set_ylabel(\"metric6\")\n",
    "\n",
    "plt.show()\n"
   ]
  },
  {
   "cell_type": "code",
   "execution_count": 90,
   "metadata": {},
   "outputs": [
    {
     "data": {
      "image/png": "[encoded data removed]",
      "text/plain": [
       "<Figure size 1080x360 with 2 Axes>"
      ]
     },
     "metadata": {},
     "output_type": "display_data"
    }
   ],
   "source": [
    "#plot mean and median metrics by date_ym\n",
    "fig,ax = plt.subplots(1,2,figsize = (20,4)) \n",
    "g_df['metric77']=g_df['metric7']\n",
    "df1 = g_df.groupby([\"date_ym\"], as_index=False).agg({'metric7': 'mean','metric77': 'median'}).rename(columns = {'metric7':'mean_metric7', 'metric77': 'median_metric7'}) \n",
    "ax[0] = df1.plot(x='date_ym', y=['mean_metric7', 'median_metric7'], kind='line', style=\"-o\", figsize=(15,5),ax=ax[0])\n",
    "ax[0].set_ylabel(\"metric7\")\n",
    "\n",
    "g_df['metric88']=g_df['metric8']\n",
    "df2 = g_df.groupby([\"date_ym\"], as_index=False).agg({'metric8': 'mean','metric88': 'median'}).rename(columns = {'metric8':'mean_metric8', 'metric88': 'median_metric8'}) \n",
    "ax[1] = df2.plot(x='date_ym', y=['mean_metric8', 'median_metric8'], kind='line', style=\"-o\", figsize=(15,5),ax=ax[1])\n",
    "ax[1].set_ylabel(\"metric8\")\n",
    "\n",
    "plt.show()\n"
   ]
  },
  {
   "cell_type": "code",
   "execution_count": 91,
   "metadata": {},
   "outputs": [
    {
     "data": {
      "image/png": "[encoded data removed]",
      "text/plain": [
       "<Figure size 1080x360 with 2 Axes>"
      ]
     },
     "metadata": {},
     "output_type": "display_data"
    }
   ],
   "source": [
    "#plot mean and median metrics by date_ym\n",
    "fig,ax = plt.subplots(1,2,figsize = (20,4)) \n",
    "g_df['metric99']=g_df['metric9']\n",
    "df1 = g_df.groupby([\"date_ym\"], as_index=False).agg({'metric9': 'mean','metric99': 'median'}).rename(columns = {'metric9':'mean_metric9', 'metric99': 'median_metric9'}) \n",
    "ax[0] = df1.plot(x='date_ym', y=['mean_metric9', 'median_metric9'], kind='line', style=\"-o\", figsize=(15,5),ax=ax[0])\n",
    "ax[0].set_ylabel(\"metric9\")\n",
    "\n",
    "g_df['failure1']=g_df['failure']\n",
    "df2 = g_df.groupby([\"date_ym\"], as_index=False).agg({'failure': 'mean','failure1': 'median'}).rename(columns = {'failure':'mean_failure', 'failure1': 'median_failure'}) \n",
    "ax[1] = df2.plot(x='date_ym', y=['mean_failure', 'median_failure'], kind='line', style=\"-o\", figsize=(15,5),ax=ax[1])\n",
    "ax[1].set_ylabel(\"failure\")\n",
    "\n",
    "plt.show()"
   ]
  },
  {
   "cell_type": "markdown",
   "metadata": {},
   "source": [
    "From the above figures, it looks like for most of the metrics median is flat however for metric1 and metric6 mean and median are closer, seems that the data is normally distributed for these two variables   "
   ]
  },
  {
   "cell_type": "code",
   "execution_count": 92,
   "metadata": {},
   "outputs": [
    {
     "data": {
      "text/plain": [
       "True"
      ]
     },
     "execution_count": 92,
     "metadata": {},
     "output_type": "execute_result"
    }
   ],
   "source": [
    "#Check to see if both these variables metric7 and metric8 are exactly the same; if so, drop one of them\n",
    "g_df['metric7'].equals(g_df['metric8'])"
   ]
  },
  {
   "cell_type": "code",
   "execution_count": 93,
   "metadata": {
    "collapsed": true
   },
   "outputs": [],
   "source": [
    "#dropping columns\n",
    "drop_col=['metric8','metric11','metric22','metric33','metric44','metric55','metric66','metric77','metric88','metric99','failure1']\n",
    "g_df=g_df.drop(drop_col,axis=1)"
   ]
  },
  {
   "cell_type": "code",
   "execution_count": 32,
   "metadata": {},
   "outputs": [
    {
     "data": {
      "text/html": [
       "<div>\n",
       "<style scoped>\n",
       "    .dataframe tbody tr th:only-of-type {\n",
       "        vertical-align: middle;\n",
       "    }\n",
       "\n",
       "    .dataframe tbody tr th {\n",
       "        vertical-align: top;\n",
       "    }\n",
       "\n",
       "    .dataframe thead th {\n",
       "        text-align: right;\n",
       "    }\n",
       "</style>\n",
       "<table border=\"1\" class=\"dataframe\">\n",
       "  <thead>\n",
       "    <tr style=\"text-align: right;\">\n",
       "      <th></th>\n",
       "      <th>date</th>\n",
       "      <th>id</th>\n",
       "      <th>failure</th>\n",
       "      <th>metric1</th>\n",
       "      <th>metric2</th>\n",
       "      <th>metric3</th>\n",
       "      <th>metric4</th>\n",
       "      <th>metric5</th>\n",
       "      <th>metric6</th>\n",
       "      <th>metric7</th>\n",
       "      <th>metric9</th>\n",
       "      <th>date_dt</th>\n",
       "      <th>date_ym</th>\n",
       "    </tr>\n",
       "  </thead>\n",
       "  <tbody>\n",
       "    <tr>\n",
       "      <th>4885</th>\n",
       "      <td>2015-01-05</td>\n",
       "      <td>S1F0RRB1</td>\n",
       "      <td>1</td>\n",
       "      <td>48467332</td>\n",
       "      <td>64776</td>\n",
       "      <td>0</td>\n",
       "      <td>841</td>\n",
       "      <td>8</td>\n",
       "      <td>39267</td>\n",
       "      <td>56</td>\n",
       "      <td>1</td>\n",
       "      <td>2015-01-05</td>\n",
       "      <td>2015-01</td>\n",
       "    </tr>\n",
       "    <tr>\n",
       "      <th>6879</th>\n",
       "      <td>2015-01-07</td>\n",
       "      <td>S1F0CTDN</td>\n",
       "      <td>1</td>\n",
       "      <td>184069720</td>\n",
       "      <td>528</td>\n",
       "      <td>0</td>\n",
       "      <td>4</td>\n",
       "      <td>9</td>\n",
       "      <td>387871</td>\n",
       "      <td>32</td>\n",
       "      <td>3</td>\n",
       "      <td>2015-01-07</td>\n",
       "      <td>2015-01</td>\n",
       "    </tr>\n",
       "    <tr>\n",
       "      <th>8823</th>\n",
       "      <td>2015-01-09</td>\n",
       "      <td>W1F0PNA5</td>\n",
       "      <td>1</td>\n",
       "      <td>136429411</td>\n",
       "      <td>64784</td>\n",
       "      <td>0</td>\n",
       "      <td>406</td>\n",
       "      <td>30</td>\n",
       "      <td>224801</td>\n",
       "      <td>8</td>\n",
       "      <td>0</td>\n",
       "      <td>2015-01-09</td>\n",
       "      <td>2015-01</td>\n",
       "    </tr>\n",
       "    <tr>\n",
       "      <th>11957</th>\n",
       "      <td>2015-01-13</td>\n",
       "      <td>W1F13SRV</td>\n",
       "      <td>1</td>\n",
       "      <td>188251248</td>\n",
       "      <td>2040</td>\n",
       "      <td>0</td>\n",
       "      <td>0</td>\n",
       "      <td>6</td>\n",
       "      <td>39345</td>\n",
       "      <td>32</td>\n",
       "      <td>1</td>\n",
       "      <td>2015-01-13</td>\n",
       "      <td>2015-01</td>\n",
       "    </tr>\n",
       "    <tr>\n",
       "      <th>12668</th>\n",
       "      <td>2015-01-14</td>\n",
       "      <td>W1F1230J</td>\n",
       "      <td>1</td>\n",
       "      <td>220461296</td>\n",
       "      <td>0</td>\n",
       "      <td>0</td>\n",
       "      <td>0</td>\n",
       "      <td>14</td>\n",
       "      <td>325125</td>\n",
       "      <td>0</td>\n",
       "      <td>0</td>\n",
       "      <td>2015-01-14</td>\n",
       "      <td>2015-01</td>\n",
       "    </tr>\n",
       "    <tr>\n",
       "      <th>14734</th>\n",
       "      <td>2015-01-17</td>\n",
       "      <td>W1F0T034</td>\n",
       "      <td>1</td>\n",
       "      <td>154998752</td>\n",
       "      <td>1312</td>\n",
       "      <td>0</td>\n",
       "      <td>18</td>\n",
       "      <td>10</td>\n",
       "      <td>306996</td>\n",
       "      <td>0</td>\n",
       "      <td>0</td>\n",
       "      <td>2015-01-17</td>\n",
       "      <td>2015-01</td>\n",
       "    </tr>\n",
       "    <tr>\n",
       "      <th>15087</th>\n",
       "      <td>2015-01-18</td>\n",
       "      <td>S1F0GG8X</td>\n",
       "      <td>1</td>\n",
       "      <td>54292264</td>\n",
       "      <td>64736</td>\n",
       "      <td>0</td>\n",
       "      <td>160</td>\n",
       "      <td>11</td>\n",
       "      <td>192179</td>\n",
       "      <td>0</td>\n",
       "      <td>2</td>\n",
       "      <td>2015-01-18</td>\n",
       "      <td>2015-01</td>\n",
       "    </tr>\n",
       "    <tr>\n",
       "      <th>15773</th>\n",
       "      <td>2015-01-19</td>\n",
       "      <td>S1F023H2</td>\n",
       "      <td>1</td>\n",
       "      <td>64499464</td>\n",
       "      <td>0</td>\n",
       "      <td>0</td>\n",
       "      <td>1</td>\n",
       "      <td>19</td>\n",
       "      <td>514661</td>\n",
       "      <td>16</td>\n",
       "      <td>3</td>\n",
       "      <td>2015-01-19</td>\n",
       "      <td>2015-01</td>\n",
       "    </tr>\n",
       "    <tr>\n",
       "      <th>15859</th>\n",
       "      <td>2015-01-19</td>\n",
       "      <td>S1F0QY11</td>\n",
       "      <td>1</td>\n",
       "      <td>159635352</td>\n",
       "      <td>0</td>\n",
       "      <td>0</td>\n",
       "      <td>9</td>\n",
       "      <td>7</td>\n",
       "      <td>231336</td>\n",
       "      <td>16</td>\n",
       "      <td>0</td>\n",
       "      <td>2015-01-19</td>\n",
       "      <td>2015-01</td>\n",
       "    </tr>\n",
       "    <tr>\n",
       "      <th>15898</th>\n",
       "      <td>2015-01-19</td>\n",
       "      <td>S1F0S2WJ</td>\n",
       "      <td>1</td>\n",
       "      <td>238299872</td>\n",
       "      <td>1184</td>\n",
       "      <td>0</td>\n",
       "      <td>0</td>\n",
       "      <td>14</td>\n",
       "      <td>268662</td>\n",
       "      <td>8</td>\n",
       "      <td>0</td>\n",
       "      <td>2015-01-19</td>\n",
       "      <td>2015-01</td>\n",
       "    </tr>\n",
       "    <tr>\n",
       "      <th>16223</th>\n",
       "      <td>2015-01-19</td>\n",
       "      <td>W1F0Z1W9</td>\n",
       "      <td>1</td>\n",
       "      <td>77877592</td>\n",
       "      <td>0</td>\n",
       "      <td>0</td>\n",
       "      <td>0</td>\n",
       "      <td>12</td>\n",
       "      <td>233238</td>\n",
       "      <td>0</td>\n",
       "      <td>0</td>\n",
       "      <td>2015-01-19</td>\n",
       "      <td>2015-01</td>\n",
       "    </tr>\n",
       "    <tr>\n",
       "      <th>16257</th>\n",
       "      <td>2015-01-19</td>\n",
       "      <td>W1F15S4D</td>\n",
       "      <td>1</td>\n",
       "      <td>241813024</td>\n",
       "      <td>3528</td>\n",
       "      <td>0</td>\n",
       "      <td>74</td>\n",
       "      <td>6</td>\n",
       "      <td>106159</td>\n",
       "      <td>16</td>\n",
       "      <td>0</td>\n",
       "      <td>2015-01-19</td>\n",
       "      <td>2015-01</td>\n",
       "    </tr>\n",
       "    <tr>\n",
       "      <th>16403</th>\n",
       "      <td>2015-01-19</td>\n",
       "      <td>Z1F0LVPW</td>\n",
       "      <td>1</td>\n",
       "      <td>120878440</td>\n",
       "      <td>304</td>\n",
       "      <td>1</td>\n",
       "      <td>34</td>\n",
       "      <td>7</td>\n",
       "      <td>298439</td>\n",
       "      <td>40</td>\n",
       "      <td>52</td>\n",
       "      <td>2015-01-19</td>\n",
       "      <td>2015-01</td>\n",
       "    </tr>\n",
       "    <tr>\n",
       "      <th>16420</th>\n",
       "      <td>2015-01-19</td>\n",
       "      <td>Z1F0NVZA</td>\n",
       "      <td>1</td>\n",
       "      <td>21389544</td>\n",
       "      <td>0</td>\n",
       "      <td>0</td>\n",
       "      <td>60</td>\n",
       "      <td>10</td>\n",
       "      <td>209721</td>\n",
       "      <td>16</td>\n",
       "      <td>0</td>\n",
       "      <td>2015-01-19</td>\n",
       "      <td>2015-01</td>\n",
       "    </tr>\n",
       "    <tr>\n",
       "      <th>16475</th>\n",
       "      <td>2015-01-19</td>\n",
       "      <td>Z1F1FCH5</td>\n",
       "      <td>1</td>\n",
       "      <td>163342800</td>\n",
       "      <td>0</td>\n",
       "      <td>0</td>\n",
       "      <td>6</td>\n",
       "      <td>7</td>\n",
       "      <td>239297</td>\n",
       "      <td>24</td>\n",
       "      <td>0</td>\n",
       "      <td>2015-01-19</td>\n",
       "      <td>2015-01</td>\n",
       "    </tr>\n",
       "    <tr>\n",
       "      <th>16554</th>\n",
       "      <td>2015-01-20</td>\n",
       "      <td>S1F0P3G2</td>\n",
       "      <td>1</td>\n",
       "      <td>178102642</td>\n",
       "      <td>10288</td>\n",
       "      <td>0</td>\n",
       "      <td>48</td>\n",
       "      <td>8</td>\n",
       "      <td>261020</td>\n",
       "      <td>424</td>\n",
       "      <td>1</td>\n",
       "      <td>2015-01-20</td>\n",
       "      <td>2015-01</td>\n",
       "    </tr>\n",
       "    <tr>\n",
       "      <th>18231</th>\n",
       "      <td>2015-01-22</td>\n",
       "      <td>W1F0F6BN</td>\n",
       "      <td>1</td>\n",
       "      <td>22646880</td>\n",
       "      <td>0</td>\n",
       "      <td>0</td>\n",
       "      <td>58</td>\n",
       "      <td>12</td>\n",
       "      <td>244253</td>\n",
       "      <td>0</td>\n",
       "      <td>0</td>\n",
       "      <td>2015-01-22</td>\n",
       "      <td>2015-01</td>\n",
       "    </tr>\n",
       "    <tr>\n",
       "      <th>18991</th>\n",
       "      <td>2015-01-23</td>\n",
       "      <td>W1F0P114</td>\n",
       "      <td>1</td>\n",
       "      <td>192865952</td>\n",
       "      <td>0</td>\n",
       "      <td>0</td>\n",
       "      <td>9</td>\n",
       "      <td>36</td>\n",
       "      <td>271129</td>\n",
       "      <td>0</td>\n",
       "      <td>0</td>\n",
       "      <td>2015-01-23</td>\n",
       "      <td>2015-01</td>\n",
       "    </tr>\n",
       "    <tr>\n",
       "      <th>19059</th>\n",
       "      <td>2015-01-23</td>\n",
       "      <td>W1F0X4FC</td>\n",
       "      <td>1</td>\n",
       "      <td>64408168</td>\n",
       "      <td>0</td>\n",
       "      <td>0</td>\n",
       "      <td>0</td>\n",
       "      <td>7</td>\n",
       "      <td>245849</td>\n",
       "      <td>48</td>\n",
       "      <td>0</td>\n",
       "      <td>2015-01-23</td>\n",
       "      <td>2015-01</td>\n",
       "    </tr>\n",
       "    <tr>\n",
       "      <th>20817</th>\n",
       "      <td>2015-01-26</td>\n",
       "      <td>S1F0LCTV</td>\n",
       "      <td>1</td>\n",
       "      <td>47001646</td>\n",
       "      <td>0</td>\n",
       "      <td>0</td>\n",
       "      <td>7</td>\n",
       "      <td>12</td>\n",
       "      <td>468887</td>\n",
       "      <td>0</td>\n",
       "      <td>0</td>\n",
       "      <td>2015-01-26</td>\n",
       "      <td>2015-01</td>\n",
       "    </tr>\n",
       "  </tbody>\n",
       "</table>\n",
       "</div>"
      ],
      "text/plain": [
       "             date        id  failure    metric1  metric2  metric3  metric4  \\\n",
       "4885   2015-01-05  S1F0RRB1        1   48467332    64776        0      841   \n",
       "6879   2015-01-07  S1F0CTDN        1  184069720      528        0        4   \n",
       "8823   2015-01-09  W1F0PNA5        1  136429411    64784        0      406   \n",
       "11957  2015-01-13  W1F13SRV        1  188251248     2040        0        0   \n",
       "12668  2015-01-14  W1F1230J        1  220461296        0        0        0   \n",
       "14734  2015-01-17  W1F0T034        1  154998752     1312        0       18   \n",
       "15087  2015-01-18  S1F0GG8X        1   54292264    64736        0      160   \n",
       "15773  2015-01-19  S1F023H2        1   64499464        0        0        1   \n",
       "15859  2015-01-19  S1F0QY11        1  159635352        0        0        9   \n",
       "15898  2015-01-19  S1F0S2WJ        1  238299872     1184        0        0   \n",
       "16223  2015-01-19  W1F0Z1W9        1   77877592        0        0        0   \n",
       "16257  2015-01-19  W1F15S4D        1  241813024     3528        0       74   \n",
       "16403  2015-01-19  Z1F0LVPW        1  120878440      304        1       34   \n",
       "16420  2015-01-19  Z1F0NVZA        1   21389544        0        0       60   \n",
       "16475  2015-01-19  Z1F1FCH5        1  163342800        0        0        6   \n",
       "16554  2015-01-20  S1F0P3G2        1  178102642    10288        0       48   \n",
       "18231  2015-01-22  W1F0F6BN        1   22646880        0        0       58   \n",
       "18991  2015-01-23  W1F0P114        1  192865952        0        0        9   \n",
       "19059  2015-01-23  W1F0X4FC        1   64408168        0        0        0   \n",
       "20817  2015-01-26  S1F0LCTV        1   47001646        0        0        7   \n",
       "\n",
       "       metric5  metric6  metric7  metric9    date_dt  date_ym  \n",
       "4885         8    39267       56        1 2015-01-05  2015-01  \n",
       "6879         9   387871       32        3 2015-01-07  2015-01  \n",
       "8823        30   224801        8        0 2015-01-09  2015-01  \n",
       "11957        6    39345       32        1 2015-01-13  2015-01  \n",
       "12668       14   325125        0        0 2015-01-14  2015-01  \n",
       "14734       10   306996        0        0 2015-01-17  2015-01  \n",
       "15087       11   192179        0        2 2015-01-18  2015-01  \n",
       "15773       19   514661       16        3 2015-01-19  2015-01  \n",
       "15859        7   231336       16        0 2015-01-19  2015-01  \n",
       "15898       14   268662        8        0 2015-01-19  2015-01  \n",
       "16223       12   233238        0        0 2015-01-19  2015-01  \n",
       "16257        6   106159       16        0 2015-01-19  2015-01  \n",
       "16403        7   298439       40       52 2015-01-19  2015-01  \n",
       "16420       10   209721       16        0 2015-01-19  2015-01  \n",
       "16475        7   239297       24        0 2015-01-19  2015-01  \n",
       "16554        8   261020      424        1 2015-01-20  2015-01  \n",
       "18231       12   244253        0        0 2015-01-22  2015-01  \n",
       "18991       36   271129        0        0 2015-01-23  2015-01  \n",
       "19059        7   245849       48        0 2015-01-23  2015-01  \n",
       "20817       12   468887        0        0 2015-01-26  2015-01  "
      ]
     },
     "execution_count": 32,
     "metadata": {},
     "output_type": "execute_result"
    }
   ],
   "source": [
    "t3=g_df.loc[g_df['failure'] ==1]\n",
    "t3[:20]"
   ]
  },
  {
   "cell_type": "code",
   "execution_count": 94,
   "metadata": {},
   "outputs": [
    {
     "data": {
      "image/png": "[encoded data removed]",
      "text/plain": [
       "<Figure size 1440x720 with 2 Axes>"
      ]
     },
     "metadata": {},
     "output_type": "display_data"
    }
   ],
   "source": [
    "#Understanding feature correlation \n",
    "import seaborn as sns\n",
    "drop_columns=['date','date_ym']\n",
    "data_df = g_df.drop(drop_columns, axis=1)\n",
    "plt.figure(figsize=(20,10))\n",
    "data_corr = data_df.corr()\n",
    "sns.heatmap(data_corr,annot=True,fmt='0.3f')\n",
    "plt.show()"
   ]
  },
  {
   "cell_type": "markdown",
   "metadata": {},
   "source": [
    "<font size=3>__Building predictive models using machine learning techniques to predict the probability of a device failure__</font>"
   ]
  },
  {
   "cell_type": "markdown",
   "metadata": {},
   "source": [
    "Steps involved in building predictive model\n",
    "    -  Data Cleaning, Sampling, Standardization and Feature Engineering \n",
    "    -  Missing Value imputation if required\n",
    "    -  Building baseline models using different alogrithms and model selection\n",
    "    -  Hyper-parameter tuning\n",
    "    -  Performance Metrics"
   ]
  },
  {
   "cell_type": "code",
   "execution_count": 98,
   "metadata": {
    "collapsed": true
   },
   "outputs": [],
   "source": [
    "#importing additional packages\n",
    "import sklearn\n",
    "import os\n",
    "import math\n",
    "from sklearn.model_selection import train_test_split, cross_val_score\n",
    "from sklearn import model_selection, preprocessing, metrics\n",
    "from sklearn.ensemble import RandomForestRegressor,RandomForestClassifier, GradientBoostingClassifier, VotingClassifier,AdaBoostClassifier\n",
    "from sklearn.linear_model import LogisticRegression\n",
    "from sklearn.tree import DecisionTreeClassifier\n",
    "from sklearn.metrics import make_scorer, accuracy_score,confusion_matrix \n",
    "from sklearn.model_selection import GridSearchCV, cross_val_score, StratifiedKFold, learning_curve\n",
    "from sklearn.metrics import classification_report, confusion_matrix, roc_curve, auc\n",
    "from sklearn.preprocessing import StandardScaler\n",
    "import lightgbm as lgb"
   ]
  },
  {
   "cell_type": "code",
   "execution_count": 107,
   "metadata": {},
   "outputs": [],
   "source": [
    "#Lable encoding categorical column (id)\n",
    "category_columns = ['id']\n",
    "for col in category_columns:\n",
    "    lbl = preprocessing.LabelEncoder()\n",
    "    lbl.fit(list(g_df[col].values.astype('str')))\n",
    "    g_df[col] = lbl.transform(list(g_df[col].values.astype('str')))"
   ]
  },
  {
   "cell_type": "code",
   "execution_count": 108,
   "metadata": {},
   "outputs": [
    {
     "name": "stdout",
     "output_type": "stream",
     "text": [
      "Shape of x_train (99595, 9)\n",
      "Shape of y_train (99595,)\n",
      "Shape of x_valid (24899, 9)\n",
      "Shape of y_valid (24899,)\n"
     ]
    }
   ],
   "source": [
    "#Creating train and test (validation) data sets with a 80-20 split\n",
    "from sklearn.model_selection import train_test_split\n",
    "data_df=g_df\n",
    "drop_columns=['failure','date_dt','date_ym','date']\n",
    "X = data_df.drop(drop_columns, axis=1)\n",
    "Y = data_df['failure']\n",
    "X_train, X_test, Y_train, Y_test = train_test_split(X, Y, test_size=0.2)\n",
    "print(\"Shape of x_train\",X_train.shape)\n",
    "print(\"Shape of y_train\",Y_train.shape)\n",
    "print(\"Shape of x_valid\",X_test.shape)\n",
    "print(\"Shape of y_valid\",Y_test.shape)"
   ]
  },
  {
   "cell_type": "code",
   "execution_count": 109,
   "metadata": {
    "collapsed": true
   },
   "outputs": [],
   "source": [
    "#Applying 3 fold cross-validation\n",
    "kfold = StratifiedKFold(n_splits=3)\n",
    "random_state = 10"
   ]
  },
  {
   "cell_type": "markdown",
   "metadata": {},
   "source": [
    "Building Baseline models"
   ]
  },
  {
   "cell_type": "code",
   "execution_count": 110,
   "metadata": {},
   "outputs": [
    {
     "name": "stdout",
     "output_type": "stream",
     "text": [
      "      Algorithm  CrossValMeans  CrossValerrors\n",
      "0  DecisionTree       0.511824        0.008481\n",
      "1  RandomForest       0.594565        0.058806\n",
      "2           GBM       0.771701        0.049992\n",
      "3      Logistic       0.483132        0.009385\n",
      "4      LightGBM       0.724022        0.077255\n"
     ]
    },
    {
     "data": {
      "image/png": "[encoded data removed]",
      "text/plain": [
       "<Figure size 432x288 with 1 Axes>"
      ]
     },
     "metadata": {},
     "output_type": "display_data"
    }
   ],
   "source": [
    "classifiers = []\n",
    "classifiers.append(DecisionTreeClassifier(random_state=random_state))\n",
    "classifiers.append(RandomForestClassifier(random_state=random_state))\n",
    "classifiers.append(GradientBoostingClassifier(random_state=random_state))\n",
    "classifiers.append(LogisticRegression(random_state = random_state))\n",
    "classifiers.append(lgb.LGBMRegressor(random_state = random_state))\n",
    "\n",
    "\n",
    "cv_results = []\n",
    "for classifier in classifiers :\n",
    "    cv_results.append(cross_val_score(classifier, X_train, y = Y_train, scoring = \"roc_auc\", cv = kfold, n_jobs=4))\n",
    "\n",
    "cv_means = []\n",
    "cv_std = []\n",
    "for cv_result in cv_results:\n",
    "    cv_means.append(cv_result.mean())\n",
    "    cv_std.append(cv_result.std())\n",
    "\n",
    "cv_res = pd.DataFrame({\"CrossValMeans\":cv_means,\"CrossValerrors\": cv_std,\"Algorithm\":[\"DecisionTree\",\n",
    "\"RandomForest\",\"GBM\",\"Logistic\",\"LightGBM\"]})\n",
    "\n",
    "g = sns.barplot(\"CrossValMeans\",\"Algorithm\",data = cv_res, palette=\"Set3\",orient = \"h\",**{'xerr':cv_std})\n",
    "g.set_xlabel(\"Mean Accuracy\")\n",
    "g = g.set_title(\"Cross validation scores\")\n",
    "print(cv_res)"
   ]
  },
  {
   "cell_type": "markdown",
   "metadata": {},
   "source": [
    "Based on the above results, since GBM and LightGBM have better performance, applying hyper-parameter tuning for both algorithms"
   ]
  },
  {
   "cell_type": "markdown",
   "metadata": {},
   "source": [
    "LightGBM"
   ]
  },
  {
   "cell_type": "code",
   "execution_count": 111,
   "metadata": {
    "collapsed": true
   },
   "outputs": [],
   "source": [
    "#Tuning LightGBM model with various paramaters ranges\n",
    "#n_estimators ranges between 50 to 300 in increments of 50\n",
    "#learning_rate - 0.01,0.001,0.05,0.25,0.05,0.1\n",
    "#max_depth - 2,3,4\n",
    "model = lgb.LGBMRegressor(objective=None, njobs=9, n_estimators=50, learning_rate=0.05, sub_sample=0.75, max_depth=3)\n",
    "model.fit(X_train, Y_train)\n",
    "train_predictions = model.predict(X_train)\n",
    "test_predictions = model.predict(X_test)"
   ]
  },
  {
   "cell_type": "code",
   "execution_count": 112,
   "metadata": {},
   "outputs": [
    {
     "name": "stdout",
     "output_type": "stream",
     "text": [
      "Light GBM Classification Model Performance Metrics:\n",
      "-------------------------------\n",
      "F1 Score: 0.0\n",
      "Accuracy Score: 0.9990762681232178\n",
      "roc_auc: 0.8443759307032446\n",
      "gini: 0.6887518614064891\n",
      "\n",
      "Confusion Matrix:\n"
     ]
    },
    {
     "name": "stderr",
     "output_type": "stream",
     "text": [
      "/opt/python/python35/lib/python3.5/site-packages/sklearn/metrics/classification.py:1145: UndefinedMetricWarning: F-score is ill-defined and being set to 0.0 due to no true samples.\n",
      "  'recall', 'true', average, warn_for)\n"
     ]
    },
    {
     "name": "stdout",
     "output_type": "stream",
     "text": [
      "[[24876     0]\n",
      " [   23     0]]\n",
      "\n",
      "Classification Report\n",
      "              precision    recall  f1-score   support\n",
      "\n",
      "           0       1.00      1.00      1.00     24876\n",
      "           1       0.00      0.00      0.00        23\n",
      "\n",
      "   micro avg       1.00      1.00      1.00     24899\n",
      "   macro avg       0.50      0.50      0.50     24899\n",
      "weighted avg       1.00      1.00      1.00     24899\n",
      "\n",
      "TN =  24876\n",
      "FN = 23\n",
      "TP = 0\n",
      "FP = 0\n",
      "-------------------------------\n"
     ]
    },
    {
     "name": "stderr",
     "output_type": "stream",
     "text": [
      "/opt/python/python35/lib/python3.5/site-packages/sklearn/metrics/classification.py:1143: UndefinedMetricWarning: Precision and F-score are ill-defined and being set to 0.0 in labels with no predicted samples.\n",
      "  'precision', 'predicted', average, warn_for)\n",
      "/opt/python/python35/lib/python3.5/site-packages/sklearn/metrics/classification.py:1143: UndefinedMetricWarning: Precision and F-score are ill-defined and being set to 0.0 in labels with no predicted samples.\n",
      "  'precision', 'predicted', average, warn_for)\n",
      "/opt/python/python35/lib/python3.5/site-packages/sklearn/metrics/classification.py:1143: UndefinedMetricWarning: Precision and F-score are ill-defined and being set to 0.0 in labels with no predicted samples.\n",
      "  'precision', 'predicted', average, warn_for)\n"
     ]
    }
   ],
   "source": [
    "#Though accuracy and roc_auc looks fine, f1 score is 0; this is because dataset is very imbalanced\n",
    "print(\"Light GBM Classification Model Performance Metrics:\")\n",
    "print(\"-------------------------------\")\n",
    "f1_score = metrics.f1_score(test_predictions.round(), Y_test)\n",
    "accuracy = metrics.accuracy_score(test_predictions.round(), Y_test)\n",
    "print(\"F1 Score:\", f1_score)\n",
    "print(\"Accuracy Score:\", accuracy)\n",
    "fpr, tpr, _ = roc_curve(Y_test, test_predictions)\n",
    "roc_auc = auc(fpr, tpr)\n",
    "print(\"roc_auc:\",roc_auc)\n",
    "print(\"gini:\",(roc_auc*2)-1)\n",
    "print()\n",
    "print(\"Confusion Matrix:\")\n",
    "print(confusion_matrix(Y_test, test_predictions.round()))\n",
    "print()\n",
    "print(\"Classification Report\")\n",
    "print(classification_report(Y_test, test_predictions.round()))\n",
    "CM=confusion_matrix(Y_test, test_predictions.round())\n",
    "print(\"TN = \",CM[0][0])\n",
    "print(\"FN =\", CM[1][0])\n",
    "print(\"TP =\", CM[1][1])\n",
    "print(\"FP =\", CM[0][1])\n",
    "print(\"-------------------------------\")"
   ]
  },
  {
   "cell_type": "markdown",
   "metadata": {},
   "source": [
    "GBM"
   ]
  },
  {
   "cell_type": "code",
   "execution_count": 113,
   "metadata": {},
   "outputs": [
    {
     "name": "stdout",
     "output_type": "stream",
     "text": [
      "Learning rate:  0.05\n",
      "Accuracy score (training): 0.999\n",
      "Accuracy score (validation): 0.999\n",
      "\n",
      "Learning rate:  0.1\n",
      "Accuracy score (training): 0.999\n",
      "Accuracy score (validation): 0.999\n",
      "\n",
      "Learning rate:  0.25\n",
      "Accuracy score (training): 0.999\n",
      "Accuracy score (validation): 0.999\n",
      "\n",
      "Learning rate:  0.5\n",
      "Accuracy score (training): 0.987\n",
      "Accuracy score (validation): 0.987\n",
      "\n",
      "Learning rate:  0.75\n",
      "Accuracy score (training): 0.001\n",
      "Accuracy score (validation): 0.001\n",
      "\n",
      "Learning rate:  1\n",
      "Accuracy score (training): 0.929\n",
      "Accuracy score (validation): 0.929\n",
      "\n"
     ]
    }
   ],
   "source": [
    "# Tune Gradient Boosting  with various learning rates\n",
    "# compute the accuracy scores on train and validation sets when training with different learning rates\n",
    "\n",
    "learning_rates = [0.05, 0.1, 0.25, 0.5, 0.75, 1]\n",
    "for learning_rate in learning_rates:\n",
    "    gb = GradientBoostingClassifier(n_estimators=100, learning_rate = learning_rate, max_features='sqrt', max_depth = 3, random_state = 0,subsample=0.8)\n",
    "    gb.fit(X_train, Y_train)\n",
    "    print(\"Learning rate: \", learning_rate)\n",
    "    print(\"Accuracy score (training): {0:.3f}\".format(gb.score(X_train, Y_train)))\n",
    "    print(\"Accuracy score (validation): {0:.3f}\".format(gb.score(X_test, Y_test)))\n",
    "    print()"
   ]
  },
  {
   "cell_type": "code",
   "execution_count": 117,
   "metadata": {},
   "outputs": [
    {
     "name": "stdout",
     "output_type": "stream",
     "text": [
      "GBM Classification Model Performance Metrics:\n",
      "-------------------------------\n",
      "F1 Score: 0.9428485153497735\n",
      "Accuracy Score: 0.9429415547873623\n",
      "roc_auc: 0.9429530494453267\n",
      "gini: 0.8859060988906533\n",
      "\n",
      "Confusion Matrix:\n",
      "[[23499  1311]\n",
      " [ 1528 23418]]\n",
      "\n",
      "Classification Report\n",
      "              precision    recall  f1-score   support\n",
      "\n",
      "           0       0.94      0.95      0.94     24810\n",
      "           1       0.95      0.94      0.94     24946\n",
      "\n",
      "   micro avg       0.94      0.94      0.94     49756\n",
      "   macro avg       0.94      0.94      0.94     49756\n",
      "weighted avg       0.94      0.94      0.94     49756\n",
      "\n",
      "TN =  23499\n",
      "FN = 1528\n",
      "TP = 23418\n",
      "FP = 1311\n"
     ]
    }
   ],
   "source": [
    "#Thought f1 score is a little better compared to LightGBM, but other metrics like gini are not good; model needs to be imporved \n",
    "gb = GradientBoostingClassifier(n_estimators=50, learning_rate = 0.25, max_features='sqrt',\n",
    "                                min_samples_split=400,max_depth = 2, random_state = 0,subsample=0.8) #300,400\n",
    "gb.fit(X_train, Y_train)\n",
    "predictions = gb.predict(X_test)\n",
    "print(\"GBM Classification Model Performance Metrics:\")\n",
    "print(\"-------------------------------\")\n",
    "f1_score = metrics.f1_score(predictions.round(), Y_test)\n",
    "accuracy = metrics.accuracy_score(predictions.round(), Y_test)\n",
    "print(\"F1 Score:\", f1_score)\n",
    "print(\"Accuracy Score:\", accuracy)\n",
    "fpr, tpr, _ = roc_curve(Y_test, predictions)\n",
    "roc_auc = auc(fpr, tpr)\n",
    "print(\"roc_auc:\",roc_auc)\n",
    "print(\"gini:\",(roc_auc*2)-1)\n",
    "print()\n",
    "print(\"Confusion Matrix:\")\n",
    "print(confusion_matrix(Y_test, predictions.round()))\n",
    "print()\n",
    "print(\"Classification Report\")\n",
    "print(classification_report(Y_test, predictions.round()))\n",
    "CM=confusion_matrix(Y_test, predictions.round())\n",
    "print(\"TN = \",CM[0][0])\n",
    "print(\"FN =\", CM[1][0])\n",
    "print(\"TP =\", CM[1][1])\n",
    "print(\"FP =\", CM[0][1])"
   ]
  },
  {
   "cell_type": "markdown",
   "metadata": {},
   "source": [
    "From the above results, it is evident that failures are not been identified by the model"
   ]
  },
  {
   "cell_type": "markdown",
   "metadata": {},
   "source": [
    "<font size=3>__Applying Sampling and Standardization__</font>"
   ]
  },
  {
   "cell_type": "markdown",
   "metadata": {},
   "source": [
    "SMOTE: Synthetic Minority Over-sampling Technique,is an oversampling method and applying standardization"
   ]
  },
  {
   "cell_type": "code",
   "execution_count": 115,
   "metadata": {},
   "outputs": [
    {
     "name": "stdout",
     "output_type": "stream",
     "text": [
      "(248776, 9) (248776,)\n",
      "Shape of x_train (199020, 9)\n",
      "Shape of y_train (199020,)\n",
      "Shape of x_valid (49756, 9)\n",
      "Shape of y_valid (49756,)\n"
     ]
    },
    {
     "name": "stderr",
     "output_type": "stream",
     "text": [
      "/opt/python/python35/lib/python3.5/site-packages/sklearn/utils/validation.py:590: DataConversionWarning: Data with input dtype int64 was converted to float64 by StandardScaler.\n",
      "  warnings.warn(msg, DataConversionWarning)\n",
      "/opt/python/python35/lib/python3.5/site-packages/sklearn/utils/validation.py:590: DataConversionWarning: Data with input dtype int64 was converted to float64 by StandardScaler.\n",
      "  warnings.warn(msg, DataConversionWarning)\n"
     ]
    }
   ],
   "source": [
    "#Applying SMOTE for oversampling\n",
    "from imblearn.over_sampling import SMOTE\n",
    "X_1 = data_df.drop(drop_columns, axis=1)\n",
    "Y_1 = data_df['failure']\n",
    "sm = SMOTE(random_state=42)\n",
    "X, Y = sm.fit_resample(X_1, Y_1)\n",
    "print(X.shape, Y.shape)\n",
    "#Normalization\n",
    "X = StandardScaler().fit_transform(X)\n",
    "X_train, X_test, Y_train, Y_test = train_test_split(X, Y, test_size=0.2)\n",
    "print(\"Shape of x_train\",X_train.shape)\n",
    "print(\"Shape of y_train\",Y_train.shape)\n",
    "print(\"Shape of x_valid\",X_test.shape)\n",
    "print(\"Shape of y_valid\",Y_test.shape)"
   ]
  },
  {
   "cell_type": "markdown",
   "metadata": {},
   "source": [
    "LightGBM after applying sampling"
   ]
  },
  {
   "cell_type": "code",
   "execution_count": 116,
   "metadata": {
    "collapsed": true
   },
   "outputs": [],
   "source": [
    "model = lgb.LGBMRegressor(objective=None, njobs=9, n_estimators=100, learning_rate=0.03, sub_sample=0.75, max_depth=8)\n",
    "model.fit(X_train, Y_train)\n",
    "train_predictions = model.predict(X_train)\n",
    "test_predictions = model.predict(X_test)"
   ]
  },
  {
   "cell_type": "code",
   "execution_count": 118,
   "metadata": {
    "collapsed": true
   },
   "outputs": [
    {
     "name": "stdout",
     "output_type": "stream",
     "text": [
      "Light GBM Classification Model Performance Metrics:\n",
      "-------------------------------\n",
      "F1 Score 0.9670025290032517\n",
      "Accuracy Score 0.9669587587426642\n",
      "roc_auc: 0.9947541683991472\n",
      "gini: 0.9895083367982944\n",
      "Confusion Matrix:\n",
      "[[24023   787]\n",
      " [  857 24089]]\n",
      "\n",
      "Classification Report\n",
      "              precision    recall  f1-score   support\n",
      "\n",
      "           0       0.97      0.97      0.97     24810\n",
      "           1       0.97      0.97      0.97     24946\n",
      "\n",
      "   micro avg       0.97      0.97      0.97     49756\n",
      "   macro avg       0.97      0.97      0.97     49756\n",
      "weighted avg       0.97      0.97      0.97     49756\n",
      "\n",
      "TN =  24023\n",
      "FN = 857\n",
      "TP = 24089\n",
      "FP = 787\n",
      "-------------------------------\n"
     ]
    }
   ],
   "source": [
    "print(\"Light GBM Classification Model Performance Metrics:\")\n",
    "print(\"-------------------------------\")\n",
    "f1_score = metrics.f1_score(test_predictions.round(), Y_test)\n",
    "accuracy = metrics.accuracy_score(test_predictions.round(), Y_test)\n",
    "print(\"F1 Score\", f1_score)\n",
    "print(\"Accuracy Score\", accuracy)\n",
    "fpr, tpr, _ = roc_curve(Y_test, test_predictions)\n",
    "roc_auc = auc(fpr, tpr)\n",
    "print(\"roc_auc:\",roc_auc)\n",
    "print(\"gini:\",(roc_auc*2)-1)\n",
    "print(\"Confusion Matrix:\")\n",
    "print(confusion_matrix(Y_test, test_predictions.round()))\n",
    "print()\n",
    "print(\"Classification Report\")\n",
    "print(classification_report(Y_test, test_predictions.round()))\n",
    "CM=confusion_matrix(Y_test, test_predictions.round())\n",
    "print(\"TN = \",CM[0][0])\n",
    "print(\"FN =\", CM[1][0])\n",
    "print(\"TP =\", CM[1][1])\n",
    "print(\"FP =\", CM[0][1])\n",
    "print(\"-------------------------------\")"
   ]
  },
  {
   "cell_type": "markdown",
   "metadata": {},
   "source": [
    "LightGBM results look much better after applying SMOTE in terms of f1 score, precision, gini however FN and FP are still high"
   ]
  },
  {
   "cell_type": "markdown",
   "metadata": {},
   "source": [
    "GBM after applying sampling"
   ]
  },
  {
   "cell_type": "code",
   "execution_count": 119,
   "metadata": {
    "collapsed": true
   },
   "outputs": [
    {
     "name": "stdout",
     "output_type": "stream",
     "text": [
      "Learning rate:  0.05\n",
      "Accuracy score (training): 0.942\n",
      "Accuracy score (validation): 0.941\n",
      "\n",
      "Learning rate:  0.1\n",
      "Accuracy score (training): 0.950\n",
      "Accuracy score (validation): 0.948\n",
      "\n",
      "Learning rate:  0.25\n",
      "Accuracy score (training): 0.977\n",
      "Accuracy score (validation): 0.976\n",
      "\n",
      "Learning rate:  0.5\n",
      "Accuracy score (training): 0.989\n",
      "Accuracy score (validation): 0.987\n",
      "\n",
      "Learning rate:  0.75\n",
      "Accuracy score (training): 0.990\n",
      "Accuracy score (validation): 0.989\n",
      "\n",
      "Learning rate:  1\n",
      "Accuracy score (training): 0.991\n",
      "Accuracy score (validation): 0.991\n",
      "\n"
     ]
    }
   ],
   "source": [
    "learning_rates = [0.05, 0.1, 0.25, 0.5, 0.75, 1]\n",
    "for learning_rate in learning_rates:\n",
    "    gb = GradientBoostingClassifier(n_estimators=100, learning_rate = learning_rate, max_features='sqrt', max_depth = 3, random_state = 0,subsample=0.8)\n",
    "    gb.fit(X_train, Y_train)\n",
    "    print(\"Learning rate: \", learning_rate)\n",
    "    print(\"Accuracy score (training): {0:.3f}\".format(gb.score(X_train, Y_train)))\n",
    "    print(\"Accuracy score (validation): {0:.3f}\".format(gb.score(X_test, Y_test)))\n",
    "    print()"
   ]
  },
  {
   "cell_type": "code",
   "execution_count": 123,
   "metadata": {
    "collapsed": true
   },
   "outputs": [
    {
     "name": "stdout",
     "output_type": "stream",
     "text": [
      "GBM Classification Model Performance Metrics:\n",
      "-------------------------------\n",
      "F1 Score 0.9957317195358997\n",
      "Accuracy Score 0.9957191092531554\n",
      "roc_auc: 0.9957184729818505\n",
      "gini: 0.9914369459637009\n",
      "Confusion Matrix:\n",
      "[[24698   112]\n",
      " [  101 24845]]\n",
      "\n",
      "Classification Report\n",
      "              precision    recall  f1-score   support\n",
      "\n",
      "           0       1.00      1.00      1.00     24810\n",
      "           1       1.00      1.00      1.00     24946\n",
      "\n",
      "   micro avg       1.00      1.00      1.00     49756\n",
      "   macro avg       1.00      1.00      1.00     49756\n",
      "weighted avg       1.00      1.00      1.00     49756\n",
      "\n",
      "TN =  24698\n",
      "FN = 101\n",
      "TP = 24845\n",
      "FP = 112\n",
      "-------------------------------\n"
     ]
    }
   ],
   "source": [
    "gb = GradientBoostingClassifier(n_estimators=50, learning_rate = 0.5, max_features='sqrt',\n",
    "                                min_samples_split=400,max_depth = 6, random_state = 0,subsample=0.8) #300,400\n",
    "gb.fit(X_train, Y_train)\n",
    "predictions = gb.predict(X_test)\n",
    "print(\"GBM Classification Model Performance Metrics:\")\n",
    "print(\"-------------------------------\")\n",
    "f1_score = metrics.f1_score(predictions.round(), Y_test)\n",
    "accuracy = metrics.accuracy_score(predictions.round(), Y_test)\n",
    "print(\"F1 Score\", f1_score)\n",
    "print(\"Accuracy Score\", accuracy)\n",
    "fpr, tpr, _ = roc_curve(Y_test, predictions)\n",
    "roc_auc = auc(fpr, tpr)\n",
    "print(\"roc_auc:\",roc_auc)\n",
    "print(\"gini:\",(roc_auc*2)-1)\n",
    "print(\"Confusion Matrix:\")\n",
    "print(confusion_matrix(Y_test, predictions))\n",
    "print()\n",
    "print(\"Classification Report\")\n",
    "print(classification_report(Y_test, predictions))\n",
    "CM=confusion_matrix(Y_test, predictions)\n",
    "print(\"TN = \",CM[0][0])\n",
    "print(\"FN =\", CM[1][0])\n",
    "print(\"TP =\", CM[1][1])\n",
    "print(\"FP =\", CM[0][1])\n",
    "print(\"-------------------------------\")"
   ]
  },
  {
   "cell_type": "markdown",
   "metadata": {},
   "source": [
    "By applying SMOTE on GBM and hyper-parameter tuning, FN and FP have come down from 1644 to 213, which is a good improvement"
   ]
  },
  {
   "cell_type": "markdown",
   "metadata": {},
   "source": [
    "Feature Engineering"
   ]
  },
  {
   "cell_type": "markdown",
   "metadata": {},
   "source": [
    "Adding additional features:\n",
    "\n",
    " 1. Weekend: indicator that tags 1 if it is a weekend else 0<br>\n",
    " 2. week_no: indicates the week number (1,2,3,4) \n",
    " 3. day_of_week: tagging the day of the week (1,2,...7) \n",
    " 4. Day : tagging the day no of the month \n",
    " 5. Timeframe based aggregations: calculated mean,max,min values of all metrices in the past 7,14,30,60 and 90 days \n",
    "In total, ~120 additional features were created"
   ]
  },
  {
   "cell_type": "code",
   "execution_count": 126,
   "metadata": {
    "collapsed": true
   },
   "outputs": [
    {
     "name": "stdout",
     "output_type": "stream",
     "text": [
      "         date  id  failure    metric1  metric2  metric3  metric4  metric5  \\\n",
      "0  2015-01-01   0        0  215630672       56        0       52        6   \n",
      "1  2015-01-01   2        0   61370680        0        3        0        6   \n",
      "2  2015-01-01   3        0  173295968        0        0        0       12   \n",
      "3  2015-01-01   4        0   79694024        0        0        0        6   \n",
      "4  2015-01-01   5        0  135970480        0        0        0       15   \n",
      "\n",
      "   metric6  metric7  metric9    date_dt  date_ym  week_no  day_of_week  \\\n",
      "0   407438        0        7 2015-01-01  2015-01        0            4   \n",
      "1   403174        0        0 2015-01-01  2015-01        0            4   \n",
      "2   237394        0        0 2015-01-01  2015-01        0            4   \n",
      "3   410186        0        0 2015-01-01  2015-01        0            4   \n",
      "4   313173        0        3 2015-01-01  2015-01        0            4   \n",
      "\n",
      "  Weekend  metric1_7_mean  metric1_7_min  metric1_7_max  metric2_7_mean  \\\n",
      "0       0             NaN            NaN            NaN             NaN   \n",
      "1       0             NaN            NaN            NaN             NaN   \n",
      "2       0             NaN            NaN            NaN             NaN   \n",
      "3       0             NaN            NaN            NaN             NaN   \n",
      "4       0             NaN            NaN            NaN             NaN   \n",
      "\n",
      "   metric2_7_min  metric2_7_max  metric3_7_mean  metric3_7_min  metric3_7_max  \\\n",
      "0            NaN            NaN             NaN            NaN            NaN   \n",
      "1            NaN            NaN             NaN            NaN            NaN   \n",
      "2            NaN            NaN             NaN            NaN            NaN   \n",
      "3            NaN            NaN             NaN            NaN            NaN   \n",
      "4            NaN            NaN             NaN            NaN            NaN   \n",
      "\n",
      "   metric4_7_mean  metric4_7_min  metric4_7_max  metric5_7_mean  \\\n",
      "0             NaN            NaN            NaN             NaN   \n",
      "1             NaN            NaN            NaN             NaN   \n",
      "2             NaN            NaN            NaN             NaN   \n",
      "3             NaN            NaN            NaN             NaN   \n",
      "4             NaN            NaN            NaN             NaN   \n",
      "\n",
      "   metric5_7_min  metric5_7_max  metric6_7_mean  metric6_7_min  metric6_7_max  \\\n",
      "0            NaN            NaN             NaN            NaN            NaN   \n",
      "1            NaN            NaN             NaN            NaN            NaN   \n",
      "2            NaN            NaN             NaN            NaN            NaN   \n",
      "3            NaN            NaN             NaN            NaN            NaN   \n",
      "4            NaN            NaN             NaN            NaN            NaN   \n",
      "\n",
      "   metric7_7_mean  metric7_7_min  metric7_7_max  metric9_7_mean  \\\n",
      "0             NaN            NaN            NaN             NaN   \n",
      "1             NaN            NaN            NaN             NaN   \n",
      "2             NaN            NaN            NaN             NaN   \n",
      "3             NaN            NaN            NaN             NaN   \n",
      "4             NaN            NaN            NaN             NaN   \n",
      "\n",
      "   metric9_7_min  metric9_7_max  metric1_14_mean  metric1_14_min  \\\n",
      "0            NaN            NaN              NaN             NaN   \n",
      "1            NaN            NaN              NaN             NaN   \n",
      "2            NaN            NaN              NaN             NaN   \n",
      "3            NaN            NaN              NaN             NaN   \n",
      "4            NaN            NaN              NaN             NaN   \n",
      "\n",
      "   metric1_14_max  metric2_14_mean  metric2_14_min  metric2_14_max  \\\n",
      "0             NaN              NaN             NaN             NaN   \n",
      "1             NaN              NaN             NaN             NaN   \n",
      "2             NaN              NaN             NaN             NaN   \n",
      "3             NaN              NaN             NaN             NaN   \n",
      "4             NaN              NaN             NaN             NaN   \n",
      "\n",
      "   metric3_14_mean  metric3_14_min  metric3_14_max  metric4_14_mean  \\\n",
      "0              NaN             NaN             NaN              NaN   \n",
      "1              NaN             NaN             NaN              NaN   \n",
      "2              NaN             NaN             NaN              NaN   \n",
      "3              NaN             NaN             NaN              NaN   \n",
      "4              NaN             NaN             NaN              NaN   \n",
      "\n",
      "   metric4_14_min  metric4_14_max  metric5_14_mean  metric5_14_min  \\\n",
      "0             NaN             NaN              NaN             NaN   \n",
      "1             NaN             NaN              NaN             NaN   \n",
      "2             NaN             NaN              NaN             NaN   \n",
      "3             NaN             NaN              NaN             NaN   \n",
      "4             NaN             NaN              NaN             NaN   \n",
      "\n",
      "   metric5_14_max  metric6_14_mean  metric6_14_min  metric6_14_max  \\\n",
      "0             NaN              NaN             NaN             NaN   \n",
      "1             NaN              NaN             NaN             NaN   \n",
      "2             NaN              NaN             NaN             NaN   \n",
      "3             NaN              NaN             NaN             NaN   \n",
      "4             NaN              NaN             NaN             NaN   \n",
      "\n",
      "   metric7_14_mean  metric7_14_min  metric7_14_max  metric9_14_mean  \\\n",
      "0              NaN             NaN             NaN              NaN   \n",
      "1              NaN             NaN             NaN              NaN   \n",
      "2              NaN             NaN             NaN              NaN   \n",
      "3              NaN             NaN             NaN              NaN   \n",
      "4              NaN             NaN             NaN              NaN   \n",
      "\n",
      "   metric9_14_min  metric9_14_max  metric1_30_mean  metric1_30_min  \\\n",
      "0             NaN             NaN              NaN             NaN   \n",
      "1             NaN             NaN              NaN             NaN   \n",
      "2             NaN             NaN              NaN             NaN   \n",
      "3             NaN             NaN              NaN             NaN   \n",
      "4             NaN             NaN              NaN             NaN   \n",
      "\n",
      "   metric1_30_max  metric2_30_mean  metric2_30_min  metric2_30_max  \\\n",
      "0             NaN              NaN             NaN             NaN   \n",
      "1             NaN              NaN             NaN             NaN   \n",
      "2             NaN              NaN             NaN             NaN   \n",
      "3             NaN              NaN             NaN             NaN   \n",
      "4             NaN              NaN             NaN             NaN   \n",
      "\n",
      "   metric3_30_mean  metric3_30_min  metric3_30_max  metric4_30_mean  \\\n",
      "0              NaN             NaN             NaN              NaN   \n",
      "1              NaN             NaN             NaN              NaN   \n",
      "2              NaN             NaN             NaN              NaN   \n",
      "3              NaN             NaN             NaN              NaN   \n",
      "4              NaN             NaN             NaN              NaN   \n",
      "\n",
      "   metric4_30_min  metric4_30_max  metric5_30_mean  metric5_30_min  \\\n",
      "0             NaN             NaN              NaN             NaN   \n",
      "1             NaN             NaN              NaN             NaN   \n",
      "2             NaN             NaN              NaN             NaN   \n",
      "3             NaN             NaN              NaN             NaN   \n",
      "4             NaN             NaN              NaN             NaN   \n",
      "\n",
      "   metric5_30_max  metric6_30_mean  metric6_30_min  metric6_30_max  \\\n",
      "0             NaN              NaN             NaN             NaN   \n",
      "1             NaN              NaN             NaN             NaN   \n",
      "2             NaN              NaN             NaN             NaN   \n",
      "3             NaN              NaN             NaN             NaN   \n",
      "4             NaN              NaN             NaN             NaN   \n",
      "\n",
      "   metric7_30_mean  metric7_30_min  metric7_30_max  metric9_30_mean  \\\n",
      "0              NaN             NaN             NaN              NaN   \n",
      "1              NaN             NaN             NaN              NaN   \n",
      "2              NaN             NaN             NaN              NaN   \n",
      "3              NaN             NaN             NaN              NaN   \n",
      "4              NaN             NaN             NaN              NaN   \n",
      "\n",
      "   metric9_30_min  metric9_30_max  metric1_60_mean  metric1_60_min  \\\n",
      "0             NaN             NaN              NaN             NaN   \n",
      "1             NaN             NaN              NaN             NaN   \n",
      "2             NaN             NaN              NaN             NaN   \n",
      "3             NaN             NaN              NaN             NaN   \n",
      "4             NaN             NaN              NaN             NaN   \n",
      "\n",
      "   metric1_60_max  metric2_60_mean  metric2_60_min  metric2_60_max  \\\n",
      "0             NaN              NaN             NaN             NaN   \n",
      "1             NaN              NaN             NaN             NaN   \n",
      "2             NaN              NaN             NaN             NaN   \n",
      "3             NaN              NaN             NaN             NaN   \n",
      "4             NaN              NaN             NaN             NaN   \n",
      "\n",
      "   metric3_60_mean  metric3_60_min  metric3_60_max  metric4_60_mean  \\\n",
      "0              NaN             NaN             NaN              NaN   \n",
      "1              NaN             NaN             NaN              NaN   \n",
      "2              NaN             NaN             NaN              NaN   \n",
      "3              NaN             NaN             NaN              NaN   \n",
      "4              NaN             NaN             NaN              NaN   \n",
      "\n",
      "   metric4_60_min  metric4_60_max  metric5_60_mean  metric5_60_min  \\\n",
      "0             NaN             NaN              NaN             NaN   \n",
      "1             NaN             NaN              NaN             NaN   \n",
      "2             NaN             NaN              NaN             NaN   \n",
      "3             NaN             NaN              NaN             NaN   \n",
      "4             NaN             NaN              NaN             NaN   \n",
      "\n",
      "   metric5_60_max  metric6_60_mean  metric6_60_min  metric6_60_max  \\\n",
      "0             NaN              NaN             NaN             NaN   \n",
      "1             NaN              NaN             NaN             NaN   \n",
      "2             NaN              NaN             NaN             NaN   \n",
      "3             NaN              NaN             NaN             NaN   \n",
      "4             NaN              NaN             NaN             NaN   \n",
      "\n",
      "   metric7_60_mean  metric7_60_min  metric7_60_max  metric9_60_mean  \\\n",
      "0              NaN             NaN             NaN              NaN   \n",
      "1              NaN             NaN             NaN              NaN   \n",
      "2              NaN             NaN             NaN              NaN   \n",
      "3              NaN             NaN             NaN              NaN   \n",
      "4              NaN             NaN             NaN              NaN   \n",
      "\n",
      "   metric9_60_min  metric9_60_max  metric1_90_mean  metric1_90_min  \\\n",
      "0             NaN             NaN              NaN             NaN   \n",
      "1             NaN             NaN              NaN             NaN   \n",
      "2             NaN             NaN              NaN             NaN   \n",
      "3             NaN             NaN              NaN             NaN   \n",
      "4             NaN             NaN              NaN             NaN   \n",
      "\n",
      "   metric1_90_max  metric2_90_mean  metric2_90_min  metric2_90_max  \\\n",
      "0             NaN              NaN             NaN             NaN   \n",
      "1             NaN              NaN             NaN             NaN   \n",
      "2             NaN              NaN             NaN             NaN   \n",
      "3             NaN              NaN             NaN             NaN   \n",
      "4             NaN              NaN             NaN             NaN   \n",
      "\n",
      "   metric3_90_mean  metric3_90_min  metric3_90_max  metric4_90_mean  \\\n",
      "0              NaN             NaN             NaN              NaN   \n",
      "1              NaN             NaN             NaN              NaN   \n",
      "2              NaN             NaN             NaN              NaN   \n",
      "3              NaN             NaN             NaN              NaN   \n",
      "4              NaN             NaN             NaN              NaN   \n",
      "\n",
      "   metric4_90_min  metric4_90_max  metric5_90_mean  metric5_90_min  \\\n",
      "0             NaN             NaN              NaN             NaN   \n",
      "1             NaN             NaN              NaN             NaN   \n",
      "2             NaN             NaN              NaN             NaN   \n",
      "3             NaN             NaN              NaN             NaN   \n",
      "4             NaN             NaN              NaN             NaN   \n",
      "\n",
      "   metric5_90_max  metric6_90_mean  metric6_90_min  metric6_90_max  \\\n",
      "0             NaN              NaN             NaN             NaN   \n",
      "1             NaN              NaN             NaN             NaN   \n",
      "2             NaN              NaN             NaN             NaN   \n",
      "3             NaN              NaN             NaN             NaN   \n",
      "4             NaN              NaN             NaN             NaN   \n",
      "\n",
      "   metric7_90_mean  metric7_90_min  metric7_90_max  metric9_90_mean  \\\n",
      "0              NaN             NaN             NaN              NaN   \n",
      "1              NaN             NaN             NaN              NaN   \n",
      "2              NaN             NaN             NaN              NaN   \n",
      "3              NaN             NaN             NaN              NaN   \n",
      "4              NaN             NaN             NaN              NaN   \n",
      "\n",
      "   metric9_90_min  metric9_90_max  \n",
      "0             NaN             NaN  \n",
      "1             NaN             NaN  \n",
      "2             NaN             NaN  \n",
      "3             NaN             NaN  \n",
      "4             NaN             NaN  \n"
     ]
    }
   ],
   "source": [
    "import datetime\n",
    "new_data = g_df\n",
    "#week = dt.datetime(2015,9,1).isocalendar()[1]\n",
    "new_data['week_no'] = new_data.date_dt.apply(lambda x:x.isocalendar()[1]) -1\n",
    "new_data['day_of_week']  = new_data.date_dt.apply(lambda x:x.isocalendar()[2])\n",
    "new_data['Weekend'] = new_data['week_no'].apply(lambda x:'1' if (x == 6 or x == 7) else '0')\n",
    "#df['equal_or_lower_than_4?'] = df['set_of_numbers'].apply(lambda x: 'True' if x <= 4 else 'False')\n",
    "\n",
    "days = [7, 14, 30, 60, 90] #loolback_days\n",
    "numbers = [1, 2, 3, 4, 5, 6, 7, 9] #metrics\n",
    "for day in days:\n",
    "    for metric in numbers:\n",
    "        new_data['metric' + str(metric) + '_' + str(day) + '_mean'] = g_df.groupby('id', sort=False)['metric' + str(metric)].transform(lambda x: x.rolling(day).mean())\n",
    "        new_data['metric' + str(metric) + '_' + str(day) + '_min'] = g_df.groupby('id', sort=False)['metric' + str(metric)].transform(lambda x: x.rolling(day).min())\n",
    "        new_data['metric' + str(metric) + '_' + str(day) + '_max'] = g_df.groupby('id', sort=False)['metric' + str(metric)].transform(lambda x: x.rolling(day).max())\n",
    "print(new_data.head())"
   ]
  },
  {
   "cell_type": "code",
   "execution_count": 130,
   "metadata": {},
   "outputs": [
    {
     "name": "stdout",
     "output_type": "stream",
     "text": [
      "              date    id  failure    metric1  metric2  metric3  metric4  \\\n",
      "124491  2015-11-02  1075        0   19029120     4832        0        0   \n",
      "124492  2015-11-02  1081        0  226953408        0        0        0   \n",
      "124493  2015-11-02  1082        0   17572840        0        0        0   \n",
      "\n",
      "        metric5  metric6  metric7  metric9    date_dt  date_ym  week_no  \\\n",
      "124491       11   350410        0        0 2015-11-02  2015-11       44   \n",
      "124492       12   358980        0        0 2015-11-02  2015-11       44   \n",
      "124493       10   351431        0        0 2015-11-02  2015-11       44   \n",
      "\n",
      "        day_of_week Weekend  metric1_7_mean  metric1_7_min  metric1_7_max  \\\n",
      "124491            1       0    9.234223e+07     19029120.0    194069528.0   \n",
      "124492            1       0    1.316748e+08      4984656.0    226953408.0   \n",
      "124493            1       0    9.614759e+07     17572840.0    178275912.0   \n",
      "\n",
      "        metric2_7_mean  metric2_7_min  metric2_7_max  metric3_7_mean  \\\n",
      "124491          4832.0         4832.0         4832.0             0.0   \n",
      "124492             0.0            0.0            0.0             0.0   \n",
      "124493             0.0            0.0            0.0             0.0   \n",
      "\n",
      "        metric3_7_min  metric3_7_max  metric4_7_mean  metric4_7_min  \\\n",
      "124491            0.0            0.0             0.0            0.0   \n",
      "124492            0.0            0.0             0.0            0.0   \n",
      "124493            0.0            0.0             0.0            0.0   \n",
      "\n",
      "        metric4_7_max  metric5_7_mean  metric5_7_min  metric5_7_max  \\\n",
      "124491            0.0       10.714286           10.0           11.0   \n",
      "124492            0.0       11.714286           11.0           12.0   \n",
      "124493            0.0        9.714286            9.0           10.0   \n",
      "\n",
      "        metric6_7_mean  metric6_7_min  metric6_7_max  metric7_7_mean  \\\n",
      "124491   348985.142857       347667.0       350410.0             0.0   \n",
      "124492   357064.428571       356275.0       358980.0             0.0   \n",
      "124493   350019.428571       348703.0       351431.0             0.0   \n",
      "\n",
      "        metric7_7_min  metric7_7_max  metric9_7_mean  metric9_7_min  \\\n",
      "124491            0.0            0.0             0.0            0.0   \n",
      "124492            0.0            0.0             0.0            0.0   \n",
      "124493            0.0            0.0             0.0            0.0   \n",
      "\n",
      "        metric9_7_max  metric1_14_mean  metric1_14_min  metric1_14_max  \\\n",
      "124491            0.0     1.061705e+08       9878552.0     229739464.0   \n",
      "124492            0.0     1.197730e+08       1101344.0     243554608.0   \n",
      "124493            0.0     9.506983e+07       8874752.0     217167992.0   \n",
      "\n",
      "        metric2_14_mean  metric2_14_min  metric2_14_max  metric3_14_mean  \\\n",
      "124491      4827.428571          4816.0          4832.0              0.0   \n",
      "124492         0.000000             0.0             0.0              0.0   \n",
      "124493         0.000000             0.0             0.0              0.0   \n",
      "\n",
      "        metric3_14_min  metric3_14_max  metric4_14_mean  metric4_14_min  \\\n",
      "124491             0.0             0.0              0.0             0.0   \n",
      "124492             0.0             0.0              0.0             0.0   \n",
      "124493             0.0             0.0              0.0             0.0   \n",
      "\n",
      "        metric4_14_max  metric5_14_mean  metric5_14_min  metric5_14_max  \\\n",
      "124491             0.0        10.357143            10.0            11.0   \n",
      "124492             0.0        11.357143            11.0            12.0   \n",
      "124493             0.0         9.357143             9.0            10.0   \n",
      "\n",
      "        metric6_14_mean  metric6_14_min  metric6_14_max  metric7_14_mean  \\\n",
      "124491    347367.785714        343118.0        350410.0              0.0   \n",
      "124492    355597.928571        350909.0        358980.0              0.0   \n",
      "124493    348391.000000        344040.0        351431.0              0.0   \n",
      "\n",
      "        metric7_14_min  metric7_14_max  metric9_14_mean  metric9_14_min  \\\n",
      "124491             0.0             0.0              0.0             0.0   \n",
      "124492             0.0             0.0              0.0             0.0   \n",
      "124493             0.0             0.0              0.0             0.0   \n",
      "\n",
      "        metric9_14_max  metric1_30_mean  metric1_30_min  metric1_30_max  \\\n",
      "124491             0.0     1.102986e+08       9878552.0     229739464.0   \n",
      "124492             0.0     1.155237e+08       1101344.0     243554608.0   \n",
      "124493             0.0     1.031436e+08       8874752.0     217167992.0   \n",
      "\n",
      "        metric2_30_mean  metric2_30_min  metric2_30_max  metric3_30_mean  \\\n",
      "124491      4821.333333          4816.0          4832.0              0.0   \n",
      "124492         0.000000             0.0             0.0              0.0   \n",
      "124493         0.000000             0.0             0.0              0.0   \n",
      "\n",
      "        metric3_30_min  metric3_30_max  metric4_30_mean  metric4_30_min  \\\n",
      "124491             0.0             0.0              0.0             0.0   \n",
      "124492             0.0             0.0              0.0             0.0   \n",
      "124493             0.0             0.0              0.0             0.0   \n",
      "\n",
      "        metric4_30_max  metric5_30_mean  metric5_30_min  metric5_30_max  \\\n",
      "124491             0.0        10.033333             9.0            11.0   \n",
      "124492             0.0        11.033333            10.0            12.0   \n",
      "124493             0.0         9.033333             8.0            10.0   \n",
      "\n",
      "        metric6_30_mean  metric6_30_min  metric6_30_max  metric7_30_mean  \\\n",
      "124491    344659.733333        339720.0        350410.0              0.0   \n",
      "124492    350285.600000        340431.0        358980.0              0.0   \n",
      "124493    345620.033333        340544.0        351431.0              0.0   \n",
      "\n",
      "        metric7_30_min  metric7_30_max  metric9_30_mean  metric9_30_min  \\\n",
      "124491             0.0             0.0              0.0             0.0   \n",
      "124492             0.0             0.0              0.0             0.0   \n",
      "124493             0.0             0.0              0.0             0.0   \n",
      "\n",
      "        metric9_30_max  metric1_60_mean  metric1_60_min  metric1_60_max  \\\n",
      "124491             0.0     1.147892e+08       3705976.0     241701608.0   \n",
      "124492             0.0     1.217848e+08       1101344.0     243554608.0   \n",
      "124493             0.0     1.106663e+08       1940608.0     239297576.0   \n",
      "\n",
      "        metric2_60_mean  metric2_60_min  metric2_60_max  metric3_60_mean  \\\n",
      "124491      4818.666667          4816.0          4832.0              0.0   \n",
      "124492         0.000000             0.0             0.0              0.0   \n",
      "124493         0.000000             0.0             0.0              0.0   \n",
      "\n",
      "        metric3_60_min  metric3_60_max  metric4_60_mean  metric4_60_min  \\\n",
      "124491             0.0             0.0              0.0             0.0   \n",
      "124492             0.0             0.0              0.0             0.0   \n",
      "124493             0.0             0.0              0.0             0.0   \n",
      "\n",
      "        metric4_60_max  metric5_60_mean  metric5_60_min  metric5_60_max  \\\n",
      "124491             0.0         9.516667             9.0            11.0   \n",
      "124492             0.0        10.516667            10.0            12.0   \n",
      "124493             0.0         8.516667             8.0            10.0   \n",
      "\n",
      "        metric6_60_mean  metric6_60_min  metric6_60_max  metric7_60_mean  \\\n",
      "124491    335071.966667        318773.0        350410.0              0.0   \n",
      "124492    336508.216667        313377.0        358980.0              0.0   \n",
      "124493    336132.300000        320094.0        351431.0              0.0   \n",
      "\n",
      "        metric7_60_min  metric7_60_max  metric9_60_mean  metric9_60_min  \\\n",
      "124491             0.0             0.0              0.0             0.0   \n",
      "124492             0.0             0.0              0.0             0.0   \n",
      "124493             0.0             0.0              0.0             0.0   \n",
      "\n",
      "        metric9_60_max  metric1_90_mean  metric1_90_min  metric1_90_max  \\\n",
      "124491             0.0     1.177726e+08          2168.0     241701608.0   \n",
      "124492             0.0     1.234016e+08        390512.0     243554608.0   \n",
      "124493             0.0     1.179991e+08       1940608.0     239297576.0   \n",
      "\n",
      "        metric2_90_mean  metric2_90_min  metric2_90_max  metric3_90_mean  \\\n",
      "124491      3479.733333             0.0          4832.0              0.0   \n",
      "124492         0.000000             0.0             0.0              0.0   \n",
      "124493         0.000000             0.0             0.0              0.0   \n",
      "\n",
      "        metric3_90_min  metric3_90_max  metric4_90_mean  metric4_90_min  \\\n",
      "124491             0.0             0.0              0.0             0.0   \n",
      "124492             0.0             0.0              0.0             0.0   \n",
      "124493             0.0             0.0              0.0             0.0   \n",
      "\n",
      "        metric4_90_max  metric5_90_mean  metric5_90_min  metric5_90_max  \\\n",
      "124491             0.0         9.344444             9.0            11.0   \n",
      "124492             0.0        10.344444            10.0            12.0   \n",
      "124493             0.0         8.344444             8.0            10.0   \n",
      "\n",
      "        metric6_90_mean  metric6_90_min  metric6_90_max  metric7_90_mean  \\\n",
      "124491    326268.522222        293877.0        350410.0              0.0   \n",
      "124492    326207.833333        297779.0        358980.0              0.0   \n",
      "124493    327421.855556        295039.0        351431.0              0.0   \n",
      "\n",
      "        metric7_90_min  metric7_90_max  metric9_90_mean  metric9_90_min  \\\n",
      "124491             0.0             0.0              0.0             0.0   \n",
      "124492             0.0             0.0              0.0             0.0   \n",
      "124493             0.0             0.0              0.0             0.0   \n",
      "\n",
      "        metric9_90_max  \n",
      "124491             0.0  \n",
      "124492             0.0  \n",
      "124493             0.0  \n"
     ]
    }
   ],
   "source": [
    "print(new_data.tail(3))"
   ]
  },
  {
   "cell_type": "code",
   "execution_count": 131,
   "metadata": {
    "collapsed": true
   },
   "outputs": [
    {
     "name": "stdout",
     "output_type": "stream",
     "text": [
      "(248776, 132) (248776,)\n",
      "Shape of x_train (199020, 132)\n",
      "Shape of y_train (199020,)\n",
      "Shape of x_valid (49756, 132)\n",
      "Shape of y_valid (49756,)\n"
     ]
    }
   ],
   "source": [
    "#Applying SMOTE on new dataset with additional time based aggregated features and making a 80-20 split between train and test\n",
    "new_data.fillna(0, inplace=True)\n",
    "X_1 = new_data.drop(drop_columns, axis=1)\n",
    "Y_1 = new_data['failure']\n",
    "sm = SMOTE(random_state=42)\n",
    "X, Y = sm.fit_resample(X_1, Y_1)\n",
    "print(X.shape, Y.shape)\n",
    "X = StandardScaler().fit_transform(X)\n",
    "X_train, X_test, Y_train, Y_test = train_test_split(X, Y, test_size=0.2)\n",
    "print(\"Shape of x_train\",X_train.shape)\n",
    "print(\"Shape of y_train\",Y_train.shape)\n",
    "print(\"Shape of x_valid\",X_test.shape)\n",
    "print(\"Shape of y_valid\",Y_test.shape)"
   ]
  },
  {
   "cell_type": "code",
   "execution_count": 182,
   "metadata": {},
   "outputs": [],
   "source": [
    "#Creating a new dataframe with column names\n",
    "out=list(X_1.columns)\n",
    "col_ind = pd.DataFrame(index=range(len(out)))\n",
    "col_ind['col_names']= out"
   ]
  },
  {
   "cell_type": "markdown",
   "metadata": {},
   "source": [
    "LightGBM with additional features"
   ]
  },
  {
   "cell_type": "code",
   "execution_count": 134,
   "metadata": {
    "collapsed": true
   },
   "outputs": [
    {
     "name": "stdout",
     "output_type": "stream",
     "text": [
      "(199020,) (199020,)\n",
      "(49756,) (49756,)\n"
     ]
    }
   ],
   "source": [
    "model = lgb.LGBMRegressor(objective=None, njobs=9, n_estimators=100, learning_rate=0.03, sub_sample=0.75, max_depth=8)\n",
    "model.fit(X_train, Y_train)\n",
    "train_predictions = model.predict(X_train)\n",
    "test_predictions = model.predict(X_test)\n",
    "train_predictions = np.array(train_predictions)\n",
    "test_predictions = np.array(test_predictions)\n",
    "Y_train = np.array(Y_train)\n",
    "Y_test = np.array(Y_test)\n",
    "print(train_predictions.shape, Y_train.shape)\n",
    "print(test_predictions.shape, Y_test.shape)"
   ]
  },
  {
   "cell_type": "code",
   "execution_count": 135,
   "metadata": {
    "collapsed": true
   },
   "outputs": [
    {
     "name": "stdout",
     "output_type": "stream",
     "text": [
      "Light GBM Classification Model Performance Metrics:\n",
      "-------------------------------\n",
      "F1 Score 0.9894426516871837\n",
      "Accuracy Score 0.9893480183294477\n",
      "roc_auc: 0.9990690968241098\n",
      "gini: 0.9981381936482197\n",
      "Confusion Matrix:\n",
      "[[24390   328]\n",
      " [  202 24836]]\n",
      "\n",
      "Classification Report\n",
      "              precision    recall  f1-score   support\n",
      "\n",
      "           0       0.99      0.99      0.99     24718\n",
      "           1       0.99      0.99      0.99     25038\n",
      "\n",
      "   micro avg       0.99      0.99      0.99     49756\n",
      "   macro avg       0.99      0.99      0.99     49756\n",
      "weighted avg       0.99      0.99      0.99     49756\n",
      "\n",
      "TN =  24390\n",
      "FN = 202\n",
      "TP = 24836\n",
      "FP = 328\n",
      "-------------------------------\n"
     ]
    }
   ],
   "source": [
    "print(\"Light GBM Classification Model Performance Metrics:\")\n",
    "print(\"-------------------------------\")\n",
    "f1_score = metrics.f1_score(test_predictions.round(), Y_test)\n",
    "accuracy = metrics.accuracy_score(test_predictions.round(), Y_test)\n",
    "print(\"F1 Score\", f1_score)\n",
    "print(\"Accuracy Score\", accuracy)\n",
    "fpr, tpr, _ = roc_curve(Y_test, test_predictions)\n",
    "roc_auc = auc(fpr, tpr)\n",
    "print(\"roc_auc:\",roc_auc)\n",
    "print(\"gini:\",(roc_auc*2)-1)\n",
    "print(\"Confusion Matrix:\")\n",
    "print(confusion_matrix(Y_test, test_predictions.round()))\n",
    "print()\n",
    "print(\"Classification Report\")\n",
    "print(classification_report(Y_test, test_predictions.round()))\n",
    "CM=confusion_matrix(Y_test, test_predictions.round())\n",
    "print(\"TN = \",CM[0][0])\n",
    "print(\"FN =\", CM[1][0])\n",
    "print(\"TP =\", CM[1][1])\n",
    "print(\"FP =\", CM[0][1])\n",
    "print(\"-------------------------------\")"
   ]
  },
  {
   "cell_type": "code",
   "execution_count": 209,
   "metadata": {},
   "outputs": [
    {
     "data": {
      "text/plain": [
       "Text(0.5, 0, 'Relative Importance')"
      ]
     },
     "execution_count": 209,
     "metadata": {},
     "output_type": "execute_result"
    },
    {
     "data": {
      "image/png": "[encoded data removed]",
      "text/plain": [
       "<Figure size 432x288 with 1 Axes>"
      ]
     },
     "metadata": {},
     "output_type": "display_data"
    }
   ],
   "source": [
    "features = col_ind['col_names']\n",
    "importances = model.feature_importances_[:20]\n",
    "indices = np.argsort(importances)[:20]\n",
    "plt.figure(1)\n",
    "plt.title('LightGBM Feature Importances')\n",
    "plt.barh(range(len(indices)), importances[indices], color='b', align='center')\n",
    "plt.yticks(range(len(indices)), features[indices])\n",
    "plt.xlabel('Relative Importance')"
   ]
  },
  {
   "cell_type": "markdown",
   "metadata": {},
   "source": [
    "FN and FPs have reduced a lot from 1644 to 530 which shows that by adding meaningful features model performance has increased"
   ]
  },
  {
   "cell_type": "markdown",
   "metadata": {},
   "source": [
    "GBM with additional features"
   ]
  },
  {
   "cell_type": "markdown",
   "metadata": {},
   "source": [
    "Iterative Hyper-parameter tuning"
   ]
  },
  {
   "cell_type": "code",
   "execution_count": 138,
   "metadata": {},
   "outputs": [
    {
     "data": {
      "text/plain": [
       "({'n_estimators': 50}, 0.9682642482559412)"
      ]
     },
     "execution_count": 138,
     "metadata": {},
     "output_type": "execute_result"
    }
   ],
   "source": [
    "#tuning n_estimators\n",
    "param_test1 = {'n_estimators':range(50,100,150)}\n",
    "gsearch1 = GridSearchCV(estimator = GradientBoostingClassifier(learning_rate=0.1, max_depth=3,max_features='sqrt', subsample=0.8,random_state=10), \n",
    "param_grid = param_test1, scoring='f1',n_jobs=4,iid=False, cv=kfold)\n",
    "gsearch1.fit(X_train,Y_train)\n",
    "gsearch1.best_params_, gsearch1.best_score_"
   ]
  },
  {
   "cell_type": "code",
   "execution_count": 141,
   "metadata": {},
   "outputs": [
    {
     "data": {
      "text/plain": [
       "({'max_depth': 5}, 0.9857102639782712)"
      ]
     },
     "execution_count": 141,
     "metadata": {},
     "output_type": "execute_result"
    }
   ],
   "source": [
    "#tuning max_depth\n",
    "param_test2 = {'max_depth':range(3,6,1)}\n",
    "gsearch2 = GridSearchCV(estimator = GradientBoostingClassifier(learning_rate=0.1,n_estimators=50,min_samples_split=200,max_features='sqrt',subsample=0.8,random_state=10), \n",
    "param_grid = param_test2, scoring='f1',n_jobs=4,iid=False, cv=kfold)\n",
    "gsearch2.fit(X_train,Y_train)\n",
    "gsearch2.best_params_, gsearch2.best_score_"
   ]
  },
  {
   "cell_type": "code",
   "execution_count": 154,
   "metadata": {},
   "outputs": [
    {
     "data": {
      "text/plain": [
       "({'subsample': 0.8}, 0.9857102639782712)"
      ]
     },
     "execution_count": 154,
     "metadata": {},
     "output_type": "execute_result"
    }
   ],
   "source": [
    "#tuning subsample\n",
    "param_test4 = {'subsample':[0,6,0.75,0.8]}\n",
    "gsearch4 = GridSearchCV(estimator = GradientBoostingClassifier(learning_rate=0.1,n_estimators=50,min_samples_split=200,max_features='sqrt',max_depth=5,random_state=10),\n",
    "param_grid = param_test4, scoring='f1',n_jobs=4,iid=False, cv=kfold)\n",
    "gsearch4.fit(X_train,Y_train)\n",
    "gsearch4.best_params_, gsearch4.best_score_"
   ]
  },
  {
   "cell_type": "code",
   "execution_count": 155,
   "metadata": {},
   "outputs": [
    {
     "data": {
      "text/plain": [
       "({'min_samples_split': 400}, 0.9851140422002723)"
      ]
     },
     "execution_count": 155,
     "metadata": {},
     "output_type": "execute_result"
    }
   ],
   "source": [
    "#tuning min_samples_split\n",
    "param_test5 = {'min_samples_split':[300,400]}\n",
    "gsearch5 = GridSearchCV(estimator = GradientBoostingClassifier(learning_rate=0.1,n_estimators=50,max_features='sqrt',max_depth=5,subsample=0.85,random_state=10),\n",
    "param_grid = param_test5, scoring='f1',n_jobs=4,iid=False, cv=kfold)\n",
    "gsearch5.fit(X_train,Y_train)\n",
    "gsearch5.best_params_, gsearch5.best_score_"
   ]
  },
  {
   "cell_type": "code",
   "execution_count": 156,
   "metadata": {},
   "outputs": [
    {
     "data": {
      "text/plain": [
       "({'learning_rate': 0.5}, 0.9989335752088989)"
      ]
     },
     "execution_count": 156,
     "metadata": {},
     "output_type": "execute_result"
    }
   ],
   "source": [
    "#tuning learning_rates\n",
    "param_test6 = {'learning_rate': [0.05, 0.1, 0.25, 0.5, 0.75, 1]}\n",
    "gsearch6 = GridSearchCV(estimator = GradientBoostingClassifier(min_samples_split=200,n_estimators=50,max_features='sqrt',max_depth=5,subsample=0.85,random_state=10),\n",
    "param_grid = param_test6, scoring='f1',n_jobs=4,iid=False, cv=kfold)\n",
    "gsearch6.fit(X_train,Y_train)\n",
    "gsearch6.best_params_, gsearch6.best_score_"
   ]
  },
  {
   "cell_type": "code",
   "execution_count": 151,
   "metadata": {},
   "outputs": [
    {
     "name": "stdout",
     "output_type": "stream",
     "text": [
      "Fitting 3 folds for each of 1 candidates, totalling 3 fits\n"
     ]
    },
    {
     "name": "stderr",
     "output_type": "stream",
     "text": [
      "[Parallel(n_jobs=4)]: Using backend LokyBackend with 4 concurrent workers.\n",
      "[Parallel(n_jobs=4)]: Done   3 out of   3 | elapsed:   37.6s finished\n"
     ]
    },
    {
     "data": {
      "text/plain": [
       "({'learning_rate': 0.5,\n",
       "  'max_depth': 5,\n",
       "  'max_features': 'sqrt',\n",
       "  'min_samples_split': 400,\n",
       "  'n_estimators': 50,\n",
       "  'random_state': 0,\n",
       "  'subsample': 0.8},\n",
       " 0.9988480833170397)"
      ]
     },
     "execution_count": 151,
     "metadata": {},
     "output_type": "execute_result"
    }
   ],
   "source": [
    "#Final model with tuned hyper-parameter settings\n",
    "GBC1 = GradientBoostingClassifier()\n",
    "gb_param_grid = {\n",
    "              'learning_rate': [0.5],\n",
    "              'max_depth': [5],\n",
    "              'subsample':[0.8],\n",
    "              'n_estimators':[50],\n",
    "              'max_features':['sqrt'],\n",
    "              'random_state':[0],\n",
    "               'min_samples_split':[400]\n",
    "              }\n",
    "\n",
    "gsGBC1 = GridSearchCV(GBC1,param_grid = gb_param_grid, cv=kfold, scoring=\"f1\", n_jobs= 4, verbose = 1)\n",
    "gsGBC1.fit(X_train,Y_train)\n",
    "GBC_best1 = gsGBC1.best_estimator_\n",
    "\n",
    "# Best score\n",
    "gsGBC1.best_params_, gsGBC1.best_score_"
   ]
  },
  {
   "cell_type": "code",
   "execution_count": 152,
   "metadata": {},
   "outputs": [
    {
     "name": "stdout",
     "output_type": "stream",
     "text": [
      "GBM Classification Model Performance Metrics:\n",
      "-------------------------------\n",
      "F1 Score 0.9992214481065219\n",
      "Accuracy Score 0.9992161749336763\n",
      "roc_auc: 0.9992139450260704\n",
      "gini: 0.9984278900521408\n",
      "Confusion Matrix:\n",
      "[[24690    28]\n",
      " [   11 25027]]\n",
      "\n",
      "Classification Report\n",
      "              precision    recall  f1-score   support\n",
      "\n",
      "           0       1.00      1.00      1.00     24718\n",
      "           1       1.00      1.00      1.00     25038\n",
      "\n",
      "   micro avg       1.00      1.00      1.00     49756\n",
      "   macro avg       1.00      1.00      1.00     49756\n",
      "weighted avg       1.00      1.00      1.00     49756\n",
      "\n",
      "TN =  24690\n",
      "FN = 11\n",
      "TP = 25027\n",
      "FP = 28\n",
      "-------------------------------\n"
     ]
    }
   ],
   "source": [
    "predictions = gsGBC1.predict(X_test)\n",
    "print(\"GBM Classification Model Performance Metrics:\")\n",
    "print(\"-------------------------------\")\n",
    "f1_score = metrics.f1_score(predictions.round(), Y_test)\n",
    "accuracy = metrics.accuracy_score(predictions.round(), Y_test)\n",
    "print(\"F1 Score\", f1_score)\n",
    "print(\"Accuracy Score\", accuracy)\n",
    "fpr, tpr, _ = roc_curve(Y_test, predictions)\n",
    "roc_auc = auc(fpr, tpr)\n",
    "print(\"roc_auc:\",roc_auc)\n",
    "print(\"gini:\",(roc_auc*2)-1)\n",
    "print(\"Confusion Matrix:\")\n",
    "print(confusion_matrix(Y_test, predictions))\n",
    "print()\n",
    "print(\"Classification Report\")\n",
    "print(classification_report(Y_test, predictions))\n",
    "CM=confusion_matrix(Y_test, predictions)\n",
    "print(\"TN = \",CM[0][0])\n",
    "print(\"FN =\", CM[1][0])\n",
    "print(\"TP =\", CM[1][1])\n",
    "print(\"FP =\", CM[0][1])\n",
    "print(\"-------------------------------\")"
   ]
  },
  {
   "cell_type": "markdown",
   "metadata": {},
   "source": [
    "FN and FPs have reduced drastically from 213 to 39 which shows that by adding meaningful features model performance has increased which is also evident from below feature importance plot"
   ]
  },
  {
   "cell_type": "code",
   "execution_count": 207,
   "metadata": {},
   "outputs": [
    {
     "data": {
      "text/plain": [
       "Text(0.5, 0, 'Relative Importance')"
      ]
     },
     "execution_count": 207,
     "metadata": {},
     "output_type": "execute_result"
    },
    {
     "data": {
      "image/png": "[encoded data removed]",
      "text/plain": [
       "<Figure size 432x288 with 1 Axes>"
      ]
     },
     "metadata": {},
     "output_type": "display_data"
    }
   ],
   "source": [
    "features = col_ind['col_names']\n",
    "importances = GBC_best1.feature_importances_[:20]\n",
    "indices = np.argsort(importances)[:20]\n",
    "plt.figure(1)\n",
    "plt.title('Feature Importances')\n",
    "plt.barh(range(len(indices)), importances[indices], color='b', align='center')\n",
    "plt.yticks(range(len(indices)), features[indices])\n",
    "plt.xlabel('Relative Importance')\n"
   ]
  },
  {
   "cell_type": "code",
   "execution_count": 157,
   "metadata": {},
   "outputs": [
    {
     "data": {
      "image/png": "[encoded data removed]",
      "text/plain": [
       "<Figure size 432x288 with 1 Axes>"
      ]
     },
     "metadata": {},
     "output_type": "display_data"
    }
   ],
   "source": [
    "def plot_learning_curve(estimator, title, X, y, ylim=None, cv=None,\n",
    "                        n_jobs=-1, train_sizes=np.linspace(.1, 1.0, 5)):\n",
    "    \"\"\"Generate a simple plot of the test and training learning curve\"\"\"\n",
    "    plt.figure()\n",
    "    plt.title(title)\n",
    "    if ylim is not None:\n",
    "        plt.ylim(*ylim)\n",
    "    plt.xlabel(\"Training examples\")\n",
    "    plt.ylabel(\"Score\")\n",
    "    train_sizes, train_scores, test_scores = learning_curve(\n",
    "        estimator, X, y, cv=cv, n_jobs=n_jobs, train_sizes=train_sizes)\n",
    "    train_scores_mean = np.mean(train_scores, axis=1)\n",
    "    train_scores_std = np.std(train_scores, axis=1)\n",
    "    test_scores_mean = np.mean(test_scores, axis=1)\n",
    "    test_scores_std = np.std(test_scores, axis=1)\n",
    "    plt.grid()\n",
    "\n",
    "    plt.fill_between(train_sizes, train_scores_mean - train_scores_std,\n",
    "                     train_scores_mean + train_scores_std, alpha=0.1,\n",
    "                     color=\"r\")\n",
    "    plt.fill_between(train_sizes, test_scores_mean - test_scores_std,\n",
    "                     test_scores_mean + test_scores_std, alpha=0.1, color=\"g\")\n",
    "    plt.plot(train_sizes, train_scores_mean, 'o-', color=\"r\",\n",
    "             label=\"Training score\")\n",
    "    plt.plot(train_sizes, test_scores_mean, 'o-', color=\"g\",\n",
    "             label=\"Cross-validation score\")\n",
    "    plt.legend(loc=\"best\")\n",
    "    return plt\n",
    "\n",
    "g = plot_learning_curve(GBC_best1,\"GradientBoosting learning curves\",X_train,Y_train,cv=kfold)"
   ]
  },
  {
   "cell_type": "markdown",
   "metadata": {},
   "source": [
    "From the above graph it is evident that as the no of training samples increase both training and cross validation curves tend to come closer so GBM seems to better generalize the prediction "
   ]
  },
  {
   "cell_type": "code",
   "execution_count": 215,
   "metadata": {},
   "outputs": [
    {
     "data": {
      "image/png": "[encoded data removed]",
      "text/plain": [
       "<Figure size 432x288 with 2 Axes>"
      ]
     },
     "metadata": {},
     "output_type": "display_data"
    }
   ],
   "source": [
    "\n",
    "\n",
    "pred_LGBM = pd.Series(model.predict(X_test).round(), name=\"LGBM\")\n",
    "pred_GBC = pd.Series(GBC_best1.predict(X_test), name=\"GBC\")\n",
    "\n",
    "pred_prob_LGBM = model.predict(X_test)\n",
    "pred_prob_GBC = GBC_best1.predict_proba(X_test)\n",
    "\n",
    "# Concatenate all classifier results\n",
    "ensemble_results = pd.concat([pred_LGBM,pred_GBC],axis=1)\n",
    "\n",
    "g= sns.heatmap(ensemble_results.corr(),annot=True)"
   ]
  },
  {
   "cell_type": "markdown",
   "metadata": {},
   "source": [
    "The prediction seems to be quite similar for both the classifiers, however GBM stands out to be the champion model for this use case since total no of FN and FPs are lower for GBM compared to LGBM"
   ]
  },
  {
   "cell_type": "markdown",
   "metadata": {},
   "source": [
    "__Business Use Case:__ <br>\n",
    "Maintenance is usually considered as a cost-centre or necessary evil, because it costs the company unnecessarily big budget, while it should be treated as a profit-generating centre. Such predictive models turns out be a great source which help maintenance and operation answer questions like is this the right time to perform checks/fixes, should the machine be terminated or continued for various use cases like serves, clusters,data centers, chips, GPUs, conveyer belts in the warehouses, servicing vans during package delivery.<br>\n",
    "These models need to be constantly re-training with new data, so that the predicted probablities stay as relevant as possible <br>\n",
    "An A/B test can also be performed, a check to see if such models are actually helping in reducting cost\n",
    "\n",
    "1. One cell, with machines going through regularly checks/maintainance practices\n",
    "2. Second cell, with machines sent to maintenance only when the probablity of failure is greater than X (threshold)\n",
    "\n",
    "At the end of the test, we will get to know what was dollar impact (profit) of the model to our current setup\n"
   ]
  }
 ],
 "metadata": {
  "kernelspec": {
   "display_name": "Python 3",
   "language": "python",
   "name": "python3"
  },
  "language_info": {
   "codemirror_mode": {
    "name": "ipython",
    "version": 3
   },
   "file_extension": ".py",
   "mimetype": "text/x-python",
   "name": "python",
   "nbconvert_exporter": "python",
   "pygments_lexer": "ipython3",
   "version": "3.5.3"
  },
  "projectdetails": {
   "creator_id": "snall10",
   "notebook_id": "000c548a-8e4f-4509-b536-9f400d7bee46",
   "notebook_name": "DS_Challenge.ipynb",
   "prod_sys": null,
   "project_desc": "dsdf",
   "project_id": "98cbfc9d-c31c-4643-a4aa-b5135313f720",
   "project_name": "Digit R",
   "project_status": null,
   "status": "new"
  }
 },
 "nbformat": 4,
 "nbformat_minor": 2
}
